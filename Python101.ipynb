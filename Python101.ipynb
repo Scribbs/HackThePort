{
  "cells": [
    {
      "cell_type": "markdown",
      "source": [
        "# Introduction to Pandas\n",
        "----------------------------------------------------------------------------\n",
        "## Goals:\n",
        "* Learn how to use pandas dataframes\n",
        "* Plot basic charts using dataframes and matplotlib"
      ],
      "metadata": {}
    },
    {
      "cell_type": "markdown",
      "source": [
        "Reference: \n",
        "* https://pandas.pydata.org/pandas-docs/stable/getting_started/overview.html\n",
        "* https://pandas.pydata.org/pandas-docs/stable/reference/frame.html\n",
        "* https://pandas.pydata.org/pandas-docs/stable/reference/series.html"
      ],
      "metadata": {}
    },
    {
      "cell_type": "markdown",
      "source": [
        "It is a Python package providing fast, flexible, and expressive data structures designed to make working with “relational” or “labeled” data both easy and intuitive.It aims to be the fundamental high-level building block for doing practical, real world data analysis in Python."
      ],
      "metadata": {}
    },
    {
      "cell_type": "markdown",
      "source": [
        "### Import pandas library"
      ],
      "metadata": {}
    },
    {
      "cell_type": "code",
      "source": [
        "import pandas as pd"
      ],
      "outputs": [],
      "execution_count": null,
      "metadata": {
        "execution": {
          "iopub.status.busy": "2022-03-22T09:59:08.435Z",
          "iopub.execute_input": "2022-03-22T09:59:08.457Z",
          "iopub.status.idle": "2022-03-22T09:59:10.248Z",
          "shell.execute_reply": "2022-03-22T09:59:10.267Z"
        }
      }
    },
    {
      "cell_type": "markdown",
      "source": [
        "Pandas is well suited for many different kinds of data:\n",
        "* Tabular data with heterogeneously-typed columns, as in an SQL table or Excel spreadsheet\n",
        "* Ordered and unordered (not necessarily fixed-frequency) time series data.\n",
        "* Arbitrary matrix data (homogeneously typed or heterogeneous) with row and column labels\n",
        "* Any other form of observational / statistical data sets. The data actually need not be labeled at all to be placed into a pandas data structure\n",
        "\n",
        "Data structures in pandas are:\n",
        "\n",
        "* Series objects: 1D array, similar to a column in a spreadsheet\n",
        "* DataFrame objects: 2D table, similar to a spreadsheet\n",
        "* Panel objects: Dictionary of DataFrames, similar to sheet in MS Excel"
      ],
      "metadata": {}
    },
    {
      "cell_type": "markdown",
      "source": [
        "### Create a Series\n",
        "A 1D array similar to a column in spreadsheet"
      ],
      "metadata": {}
    },
    {
      "cell_type": "code",
      "source": [
        "import pandas as pd\n",
        "import numpy as np\n",
        "\n",
        "ndarray = np.array(['a','b','c','d'])\n",
        "serie = pd.Series(ndarray)\n",
        "print(serie)"
      ],
      "outputs": [],
      "execution_count": null,
      "metadata": {}
    },
    {
      "cell_type": "markdown",
      "source": [
        "### Create a data frame\n",
        "A dataframe is the tabular representation of data. Think of a dataframe as a spreadsheet with column headers and rows."
      ],
      "metadata": {}
    },
    {
      "cell_type": "code",
      "source": [
        "dog_data=[\n",
        "    ['Pedro','Doberman',3],\\\n",
        "    ['Clementine','Golden Retriever',8],\\\n",
        "    ['Norah','Great Dane',6],\\\n",
        "    ['Mabel','Austrailian Shepherd',1],\\\n",
        "    ['Bear','Maltese',4],\\\n",
        "    ['Bill','Great Dane',10]\n",
        "]"
      ],
      "outputs": [],
      "execution_count": null,
      "metadata": {}
    },
    {
      "cell_type": "code",
      "source": [
        "dog_df=pd.DataFrame(dog_data,columns=['name','breed','age'])\n",
        "dog_df"
      ],
      "outputs": [],
      "execution_count": null,
      "metadata": {}
    },
    {
      "cell_type": "code",
      "source": [
        "print(type(dog_df['age'].iloc[0]))"
      ],
      "outputs": [],
      "execution_count": null,
      "metadata": {}
    },
    {
      "cell_type": "markdown",
      "source": [
        "### Previewing the data frame"
      ],
      "metadata": {}
    },
    {
      "cell_type": "markdown",
      "source": [
        "[**DataFrame.head(n=5)**](https://pandas.pydata.org/pandas-docs/stable/reference/api/pandas.DataFrame.head.html#pandas.DataFrame.head)\n",
        "* This function returns the first n rows for the object based on position. It is useful for quickly testing if your object has the right type of data in it"
      ],
      "metadata": {}
    },
    {
      "cell_type": "code",
      "source": [
        "dog_df.head()"
      ],
      "outputs": [],
      "execution_count": null,
      "metadata": {}
    },
    {
      "cell_type": "markdown",
      "source": [
        "[**DataFrame.tail(n=5)**](https://pandas.pydata.org/pandas-docs/stable/reference/api/pandas.DataFrame.tail.html#pandas.DataFrame.tail)\n",
        "* This function returns last n rows from the object based on position. It is useful for quickly verifying data, for example, after sorting or appending rows"
      ],
      "metadata": {}
    },
    {
      "cell_type": "code",
      "source": [
        "dog_df.tail(3)"
      ],
      "outputs": [],
      "execution_count": null,
      "metadata": {}
    },
    {
      "cell_type": "markdown",
      "source": [
        "[**DataFrame.shape**](https://pandas.pydata.org/pandas-docs/stable/reference/api/pandas.DataFrame.shape.html#pandas.DataFrame.shape)\n",
        "* Return a tuple representing the dimensionality of the DataFrame."
      ],
      "metadata": {}
    },
    {
      "cell_type": "code",
      "source": [
        "dog_df.shape"
      ],
      "outputs": [],
      "execution_count": null,
      "metadata": {}
    },
    {
      "cell_type": "code",
      "source": [
        "len(dog_df)"
      ],
      "outputs": [],
      "execution_count": null,
      "metadata": {}
    },
    {
      "cell_type": "markdown",
      "source": [
        "[**DataFrame.columns**](https://pandas.pydata.org/pandas-docs/stable/reference/api/pandas.DataFrame.columns.html#pandas.DataFrame.columns)\n",
        "* The column labels of the DataFrame"
      ],
      "metadata": {}
    },
    {
      "cell_type": "code",
      "source": [
        "dog_df.columns"
      ],
      "outputs": [],
      "execution_count": null,
      "metadata": {}
    },
    {
      "cell_type": "markdown",
      "source": [
        "[**DataFrame.dtypes**](https://pandas.pydata.org/pandas-docs/stable/reference/api/pandas.DataFrame.dtypes.html#pandas.DataFrame.dtypes)\n",
        "* Return the dtypes in the DataFrame.\n",
        "* This returns a Series with the data type of each column.\n",
        "* The result’s index is the original DataFrame’s columns.\n",
        "* Columns with mixed types are stored with the object dtype."
      ],
      "metadata": {}
    },
    {
      "cell_type": "code",
      "source": [
        "dog_df.dtypes"
      ],
      "outputs": [],
      "execution_count": null,
      "metadata": {}
    },
    {
      "cell_type": "markdown",
      "source": [
        "[**DataFrame.values**](https://pandas.pydata.org/pandas-docs/stable/reference/api/pandas.DataFrame.values.html#pandas.DataFrame.values)\n",
        "* Return a Numpy representation of the DataFrame.\n",
        "* Python documentation recommends using DataFrame.to_numpy() instead.\n",
        "* Only the values in the DataFrame will be returned, the axes labels will be removed."
      ],
      "metadata": {}
    },
    {
      "cell_type": "code",
      "source": [
        "dog_df.values"
      ],
      "outputs": [],
      "execution_count": null,
      "metadata": {}
    },
    {
      "cell_type": "markdown",
      "source": [
        "[**DataFrame.describe(percentiles=None, include=None, exclude=None)**](https://pandas.pydata.org/pandas-docs/stable/reference/api/pandas.DataFrame.describe.html#pandas.DataFrame.describe)\n",
        "* Generate descriptive statistics that summarize the central tendency, dispersion and shape of a dataset’s distribution, excluding NaN values.\n",
        "* Analyzes both numeric and object series, as well as DataFrame column sets of mixed data types. The output will vary depending on what is provided."
      ],
      "metadata": {}
    },
    {
      "cell_type": "code",
      "source": [
        "dog_df.describe()"
      ],
      "outputs": [],
      "execution_count": null,
      "metadata": {}
    },
    {
      "cell_type": "markdown",
      "source": [
        "[**Series.value_counts(normalize=False, sort=True, ascending=False, bins=None, dropna=True)**](https://pandas.pydata.org/pandas-docs/stable/reference/api/pandas.Series.value_counts.html)\n",
        "* Return a Series containing counts of unique values.\n",
        "* The resulting object will be in descending order so that the first element is the most frequently-occurring element. Excludes NA values by default."
      ],
      "metadata": {}
    },
    {
      "cell_type": "code",
      "source": [
        "dog_df['breed'].value_counts()"
      ],
      "outputs": [],
      "execution_count": null,
      "metadata": {}
    },
    {
      "cell_type": "markdown",
      "source": [
        "### Sorting"
      ],
      "metadata": {}
    },
    {
      "cell_type": "markdown",
      "source": [
        "### Selecting/Querying"
      ],
      "metadata": {}
    },
    {
      "cell_type": "code",
      "source": [
        "dog_df[['name','age']]"
      ],
      "outputs": [],
      "execution_count": null,
      "metadata": {}
    },
    {
      "cell_type": "markdown",
      "source": [
        "[**DataFrame.iloc**](https://pandas.pydata.org/pandas-docs/stable/reference/api/pandas.DataFrame.iloc.html#pandas.DataFrame.iloc)\n",
        "* Purely integer-location based indexing for selection by position.\n",
        "* .iloc[] is primarily integer position based (from 0 to length-1 of the axis), but may also be used with a boolean array.\n",
        "\n",
        "Allowed inputs are:\n",
        "\n",
        "* An integer, e.g. 5.\n",
        "* A list or array of integers, e.g. [4, 3, 0].\n",
        "* A slice object with ints, e.g. 1:7.\n",
        "* A boolean array.\n",
        "* A callable function with one argument (the calling Series, DataFrame or Panel) and that returns valid output for indexing (one of the above). This is useful in method chains, when you don’t have a reference to the calling object, but would like to base your selection on some value."
      ],
      "metadata": {}
    },
    {
      "cell_type": "code",
      "source": [
        "dog_df.iloc[2:4]"
      ],
      "outputs": [],
      "execution_count": null,
      "metadata": {}
    },
    {
      "cell_type": "code",
      "source": [
        "dog_df.iloc[1:4, 0:2]"
      ],
      "outputs": [],
      "execution_count": null,
      "metadata": {}
    },
    {
      "cell_type": "code",
      "source": [
        "dog_df[dog_df['breed'].isin(['Great Dane', 'Maltese'])]"
      ],
      "outputs": [],
      "execution_count": null,
      "metadata": {}
    },
    {
      "cell_type": "code",
      "source": [
        "dog_df[dog_df['name']=='Norah']"
      ],
      "outputs": [],
      "execution_count": null,
      "metadata": {}
    },
    {
      "cell_type": "code",
      "source": [
        "dog_df[(dog_df['name']=='Bill') & (dog_df['breed']=='Great Dane')]"
      ],
      "outputs": [],
      "execution_count": null,
      "metadata": {}
    },
    {
      "cell_type": "code",
      "source": [
        "dog_df[dog_df['age']<5]"
      ],
      "outputs": [],
      "execution_count": null,
      "metadata": {}
    },
    {
      "cell_type": "code",
      "source": [
        "dog_df[dog_df['breed'].str.contains('G')]"
      ],
      "outputs": [],
      "execution_count": null,
      "metadata": {}
    },
    {
      "cell_type": "markdown",
      "source": [
        "### Combining data frames"
      ],
      "metadata": {}
    },
    {
      "cell_type": "code",
      "source": [
        "owner_data=[['Bilbo','Pedro'],['Gandalf','Bear'],['Sam','Bill']]\n",
        "owner_df=pd.DataFrame(owner_data,columns=['owner_name','dog_name'])"
      ],
      "outputs": [],
      "execution_count": null,
      "metadata": {}
    },
    {
      "cell_type": "markdown",
      "source": [
        "**[DataFrame.merge(right, how='inner', on=None, left_on=None, right_on=None, left_index=False, right_index=False, sort=False, suffixes=('_x', '_y'), copy=True, indicator=False, validate=None)](https://pandas.pydata.org/pandas-docs/stable/reference/api/pandas.DataFrame.merge.html#pandas.DataFrame.merge)**\n",
        "* Merge DataFrame or named Series objects with a database-style join.\n",
        "* The join is done on columns or indexes. If joining columns on columns, the DataFrame indexes will be ignored. Otherwise if joining indexes on indexes or indexes on a column or columns, the index will be passed on"
      ],
      "metadata": {}
    },
    {
      "cell_type": "code",
      "source": [
        "df=pd.merge(owner_df,dog_df,left_on='dog_name',right_on='name',how='inner')"
      ],
      "outputs": [],
      "execution_count": null,
      "metadata": {}
    },
    {
      "cell_type": "code",
      "source": [
        "df"
      ],
      "outputs": [],
      "execution_count": null,
      "metadata": {}
    },
    {
      "cell_type": "markdown",
      "source": [
        "More details on merge parameters:\n",
        "* **right** : DataFrame\n",
        "* **how** : {‘left’, ‘right’, ‘outer’, ‘inner’}, default ‘inner’\n",
        "  * left: use only keys from left frame, similar to a SQL left outer join; preserve key order\n",
        "  * right: use only keys from right frame, similar to a SQL right outer join; preserve key order\n",
        "  * outer: use union of keys from both frames, similar to a SQL full outer join; sort keys lexicographically\n",
        "  * inner: use intersection of keys from both frames, similar to a SQL inner join; preserve the order of the left keys\n",
        "* **on** : label or list. Column or index level names to join on. These must be found in both DataFrames. If on is None and not merging on indexes then this defaults to the intersection of the columns in both DataFrames.\n",
        "* **left_on** : label or list, or array-like. Column or index level names to join on in the left DataFrame. Can also be an array or list of arrays of the length of the left DataFrame. These arrays are treated as if they are columns.\n",
        "* **right_on** : label or list, or array-like Column or index level names to join on in the right DataFrame. Can also be an array or list of arrays of the length of the right DataFrame. These arrays are treated as if they are columns.\n",
        "\n",
        "Reference: https://pandas.pydata.org/pandas-docs/stable/generated/pandas.DataFrame.merge.html"
      ],
      "metadata": {}
    },
    {
      "cell_type": "markdown",
      "source": [
        "| Merge method | SQL Join Name | Description |\n",
        "| -------------|---------------|-------------|\n",
        "| left | LEFT OUTER JOIN | Use keys from left frame only | \n",
        "| right | RIGHT OUTER JOIN | Use keys from right frame only |\n",
        "| outer | FULL OUTER JOIN | Use union of keys from both frames |\n",
        "| inner | INNER JOIN | Use intersection of keys from both frames |"
      ],
      "metadata": {}
    },
    {
      "cell_type": "markdown",
      "source": [
        "### Inner Merge"
      ],
      "metadata": {}
    },
    {
      "cell_type": "code",
      "source": [
        "inner_df = owner_df.merge(dog_df, left_on='dog_name', right_on='name', how='inner')"
      ],
      "outputs": [],
      "execution_count": null,
      "metadata": {}
    },
    {
      "cell_type": "code",
      "source": [
        "inner_df"
      ],
      "outputs": [],
      "execution_count": null,
      "metadata": {}
    },
    {
      "cell_type": "code",
      "source": [
        "inner_df=inner_df.drop(['name'],axis=1)"
      ],
      "outputs": [],
      "execution_count": null,
      "metadata": {}
    },
    {
      "cell_type": "code",
      "source": [
        "inner_df"
      ],
      "outputs": [],
      "execution_count": null,
      "metadata": {}
    },
    {
      "cell_type": "markdown",
      "source": [
        "### Left Merge"
      ],
      "metadata": {}
    },
    {
      "cell_type": "code",
      "source": [
        "left_df = owner_df.merge(dog_df, left_on='dog_name', right_on='name', how='left')"
      ],
      "outputs": [],
      "execution_count": null,
      "metadata": {}
    },
    {
      "cell_type": "code",
      "source": [
        "left_df"
      ],
      "outputs": [],
      "execution_count": null,
      "metadata": {}
    },
    {
      "cell_type": "markdown",
      "source": [
        "### Right Merge"
      ],
      "metadata": {}
    },
    {
      "cell_type": "code",
      "source": [
        "right_df = owner_df.merge(dog_df, left_on='dog_name', right_on='name', how='right')"
      ],
      "outputs": [],
      "execution_count": null,
      "metadata": {}
    },
    {
      "cell_type": "code",
      "source": [
        "right_df"
      ],
      "outputs": [],
      "execution_count": null,
      "metadata": {}
    },
    {
      "cell_type": "markdown",
      "source": [
        "### Outer Merge"
      ],
      "metadata": {}
    },
    {
      "cell_type": "code",
      "source": [
        "outer_df = owner_df.merge(dog_df, left_on='dog_name', right_on='name', how='outer')"
      ],
      "outputs": [],
      "execution_count": null,
      "metadata": {}
    },
    {
      "cell_type": "code",
      "source": [
        "outer_df"
      ],
      "outputs": [],
      "execution_count": null,
      "metadata": {}
    },
    {
      "cell_type": "markdown",
      "source": [
        "### Dropping Columns"
      ],
      "metadata": {}
    },
    {
      "cell_type": "markdown",
      "source": [
        "[**DataFrame.drop(labels=None, axis=0, index=None, columns=None, level=None, inplace=False, errors='raise')**](https://pandas.pydata.org/pandas-docs/stable/reference/api/pandas.DataFrame.drop.html#pandas.DataFrame.drop)\n",
        "* Drop specified labels from rows or columns.\n",
        "* Remove rows or columns by specifying label names and corresponding axis, or by specifying directly index or column names. \n",
        "* When using a multi-index, labels on different levels can be removed by specifying the level."
      ],
      "metadata": {}
    },
    {
      "cell_type": "code",
      "source": [
        "df=df.drop(['name'],axis=1)"
      ],
      "outputs": [],
      "execution_count": null,
      "metadata": {}
    },
    {
      "cell_type": "code",
      "source": [
        "df"
      ],
      "outputs": [],
      "execution_count": null,
      "metadata": {}
    },
    {
      "cell_type": "markdown",
      "source": [
        "### Basic plotting"
      ],
      "metadata": {}
    },
    {
      "cell_type": "code",
      "source": [
        "import matplotlib"
      ],
      "outputs": [],
      "execution_count": null,
      "metadata": {
        "execution": {
          "iopub.status.busy": "2022-03-22T09:58:49.422Z",
          "iopub.execute_input": "2022-03-22T09:58:49.442Z",
          "iopub.status.idle": "2022-03-22T09:58:51.453Z",
          "shell.execute_reply": "2022-03-22T09:58:51.550Z"
        }
      }
    },
    {
      "cell_type": "markdown",
      "source": [
        "Matplotlib is a Python 2D plotting library which produces publication quality figures in a variety of hardcopy formats and interactive environments across platforms. "
      ],
      "metadata": {}
    },
    {
      "cell_type": "code",
      "source": [
        "# Will allow us to embed images in the notebook\n",
        "%matplotlib inline"
      ],
      "outputs": [],
      "execution_count": null,
      "metadata": {
        "execution": {
          "iopub.status.busy": "2022-03-22T09:58:52.131Z",
          "iopub.execute_input": "2022-03-22T09:58:52.149Z",
          "iopub.status.idle": "2022-03-22T09:58:52.483Z",
          "shell.execute_reply": "2022-03-22T09:58:52.499Z"
        }
      }
    },
    {
      "cell_type": "code",
      "source": [
        "plot_df = pd.DataFrame({\n",
        "    'col1': [1, 3, 2, 4],\n",
        "    'col2': [3, 6, 5, 1],\n",
        "    'col3': [4, 7, 6, 2],\n",
        "})"
      ],
      "outputs": [],
      "execution_count": null,
      "metadata": {
        "execution": {
          "iopub.status.busy": "2022-03-22T09:59:18.226Z",
          "iopub.execute_input": "2022-03-22T09:59:18.245Z",
          "iopub.status.idle": "2022-03-22T09:59:18.276Z",
          "shell.execute_reply": "2022-03-22T09:59:18.297Z"
        }
      }
    },
    {
      "cell_type": "markdown",
      "source": [
        "[**matplotlib.pyplot.plot(*args, scalex=True, scaley=True, data=None, **kwargs)**](https://matplotlib.org/api/_as_gen/matplotlib.pyplot.plot.html)\n",
        "* Plot y versus x as lines and/or markers."
      ],
      "metadata": {}
    },
    {
      "cell_type": "code",
      "source": [
        "plot_df.plot()"
      ],
      "outputs": [],
      "execution_count": null,
      "metadata": {}
    },
    {
      "cell_type": "code",
      "source": [
        "plot_df.plot(kind='box')"
      ],
      "outputs": [],
      "execution_count": null,
      "metadata": {}
    },
    {
      "cell_type": "code",
      "source": [
        "plot_df.plot(kind='bar')"
      ],
      "outputs": [],
      "execution_count": null,
      "metadata": {}
    },
    {
      "cell_type": "code",
      "source": [
        "ax = plot_df.plot(kind='bar')\n",
        "ax.figure.savefig('new_graph.png')"
      ],
      "outputs": [],
      "execution_count": null,
      "metadata": {
        "execution": {
          "iopub.status.busy": "2022-03-22T10:01:14.936Z",
          "iopub.execute_input": "2022-03-22T10:01:14.956Z",
          "iopub.status.idle": "2022-03-22T10:01:15.097Z",
          "shell.execute_reply": "2022-03-22T10:01:15.129Z"
        }
      }
    }
  ],
  "metadata": {
    "kernelspec": {
      "display_name": "Python 3",
      "language": "python",
      "name": "python3"
    },
    "language_info": {
      "name": "python",
      "version": "3.8.9",
      "mimetype": "text/x-python",
      "codemirror_mode": {
        "name": "ipython",
        "version": 3
      },
      "pygments_lexer": "ipython3",
      "nbconvert_exporter": "python",
      "file_extension": ".py"
    },
    "nteract": {
      "version": "0.28.0"
    }
  },
  "nbformat": 4,
  "nbformat_minor": 2
}