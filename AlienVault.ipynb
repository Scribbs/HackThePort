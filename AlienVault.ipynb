{
  "cells": [
    {
      "cell_type": "code",
      "source": [
        "import pandas as pd\n",
        "from pandas.io.json import json_normalize\n",
        "from OTXv2 import OTXv2\n",
        "from OTXv2 import IndicatorTypes\n",
        "otx = OTXv2(\"39d6cab50c933c9a9efc17a2cb7fab6b33e2c27b0a2bbd93bf1876a9fd520f2d\")\n",
        "\n",
        "# Get all the indicators associated with a pulse\n",
        "indicators = otx.get_pulse_indicators(\"5a539e4e80fc9f0948815e6e\")\n",
        "for indicator in indicators:\n",
        "    if indicator['type'] == \"IPv4\":\n",
        "        print (indicator[\"indicator\"] + \" \" + indicator[\"type\"])\n"
      ],
      "outputs": [
        {
          "output_type": "stream",
          "name": "stdout",
          "text": [
            "125.212.132.222 IPv4\n",
            "175.100.189.174 IPv4\n",
            "191.234.40.112 IPv4\n",
            "190.82.86.164 IPv4\n",
            "181.119.19.118 IPv4\n",
            "111.207.78.204 IPv4\n",
            "122.114.89.131 IPv4\n",
            "98.101.211.162 IPv4\n",
            "66.242.128.134 IPv4\n",
            "96.65.90.58 IPv4\n",
            "75.103.110.134 IPv4\n",
            "181.119.19.196 IPv4\n",
            "98.159.16.132 IPv4\n",
            "117.232.100.154 IPv4\n",
            "66.242.128.223 IPv4\n",
            "41.92.208.194 IPv4\n",
            "41.92.208.197 IPv4\n",
            "41.92.208.196 IPv4\n",
            "199.167.100.46 IPv4\n",
            "191.233.33.177 IPv4\n",
            "66.232.121.65 IPv4\n",
            "98.101.211.170 IPv4\n",
            "195.74.38.115 IPv4\n",
            "62.243.45.227 IPv4\n",
            "119.10.74.66 IPv4\n",
            "66.242.128.140 IPv4\n",
            "36.71.90.4 IPv4\n",
            "27.123.221.66 IPv4\n",
            "200.57.90.108 IPv4\n",
            "139.217.27.203 IPv4\n",
            "77.78.100.101 IPv4\n",
            "66.242.128.158 IPv4\n",
            "125.160.213.239 IPv4\n",
            "81.0.213.173 IPv4\n",
            "216.163.20.178 IPv4\n",
            "203.160.191.116 IPv4\n",
            "82.223.73.81 IPv4\n",
            "122.114.94.26 IPv4\n",
            "221.235.53.229 IPv4\n",
            "66.175.41.191 IPv4\n",
            "210.202.40.35 IPv4\n",
            "181.119.19.141 IPv4\n",
            "66.242.128.162 IPv4\n",
            "66.242.128.163 IPv4\n",
            "66.242.128.164 IPv4\n",
            "208.78.33.70 IPv4\n",
            "209.183.21.222 IPv4\n",
            "72.167.53.183 IPv4\n",
            "91.116.139.195 IPv4\n",
            "197.211.212.14 IPv4\n",
            "71.125.1.138 IPv4\n",
            "173.0.129.83 IPv4\n",
            "71.125.1.130 IPv4\n",
            "71.125.1.133 IPv4\n",
            "71.125.1.132 IPv4\n",
            "66.242.128.173 IPv4\n",
            "66.242.128.170 IPv4\n",
            "66.242.128.179 IPv4\n",
            "196.25.89.30 IPv4\n",
            "50.62.168.157 IPv4\n",
            "208.78.33.82 IPv4\n",
            "181.119.19.58 IPv4\n",
            "181.119.19.54 IPv4\n",
            "66.242.128.181 IPv4\n",
            "66.242.128.186 IPv4\n",
            "181.119.19.50 IPv4\n",
            "66.242.128.185 IPv4\n",
            "104.192.193.149 IPv4\n",
            "221.208.194.72 IPv4\n",
            "190.105.225.232 IPv4\n",
            "5.79.99.169 IPv4\n",
            "66.242.128.11 IPv4\n",
            "66.242.128.13 IPv4\n",
            "66.242.128.12 IPv4\n",
            "208.180.64.10 IPv4\n",
            "98.113.84.130 IPv4\n",
            "98.101.211.140 IPv4\n",
            "64.29.144.201 IPv4\n",
            "173.0.129.65 IPv4\n",
            "181.119.19.56 IPv4\n",
            "82.223.213.115 IPv4\n",
            "98.101.211.251 IPv4\n",
            "181.119.19.74 IPv4\n",
            "181.119.19.5 IPv4\n",
            "190.82.74.66 IPv4\n",
            "59.90.93.138 IPv4\n"
          ]
        }
      ],
      "execution_count": 3,
      "metadata": {
        "execution": {
          "iopub.status.busy": "2022-03-22T05:40:18.543Z",
          "iopub.execute_input": "2022-03-22T05:40:18.551Z",
          "iopub.status.idle": "2022-03-22T05:40:19.415Z",
          "shell.execute_reply": "2022-03-22T05:40:19.429Z"
        }
      }
    },
    {
      "cell_type": "code",
      "source": [
        "# Get everything OTX knows about google.com\n",
        "otx.get_indicator_details_full(IndicatorTypes.DOMAIN, \"intelligenesisllc.com\")"
      ],
      "outputs": [
        {
          "output_type": "execute_result",
          "execution_count": 4,
          "data": {
            "text/plain": "{'general': {'sections': ['general',\n   'geo',\n   'url_list',\n   'passive_dns',\n   'malware',\n   'whois',\n   'http_scans'],\n  'whois': 'http://whois.domaintools.com/intelligenesisllc.com',\n  'alexa': 'http://www.alexa.com/siteinfo/intelligenesisllc.com',\n  'indicator': 'intelligenesisllc.com',\n  'type': 'domain',\n  'type_title': 'Domain',\n  'validation': [],\n  'base_indicator': {},\n  'pulse_info': {'count': 0,\n   'pulses': [],\n   'references': [],\n   'related': {'alienvault': {'adversary': [],\n     'malware_families': [],\n     'industries': []},\n    'other': {'adversary': [], 'malware_families': [], 'industries': []}}},\n  'false_positive': []},\n 'geo': {'asn': 'AS30148 SUCURI-SEC',\n  'city_data': True,\n  'city': 'Menifee',\n  'region': 'CA',\n  'continent_code': 'NA',\n  'country_code3': 'USA',\n  'country_code2': 'US',\n  'subdivision': 'CA',\n  'latitude': 33.6647,\n  'postal_code': '92584',\n  'longitude': -117.1743,\n  'accuracy_radius': 5,\n  'country_code': 'US',\n  'country_name': 'United States of America',\n  'dma_code': 803,\n  'charset': 0,\n  'area_code': 0,\n  'flag_url': '/assets/images/flags/us.png',\n  'flag_title': 'United States of America'},\n 'malware': {'data': [], 'size': 0, 'count': 0},\n 'url_list': {'url_list': [{'domain': 'intelligenesisllc.com',\n    'url': 'http://www.intelligenesisllc.com/',\n    'hostname': 'www.intelligenesisllc.com',\n    'result': {'urlworker': {'ip': '198.49.23.144', 'http_code': 200},\n     'safebrowsing': {'matches': []}},\n    'date': '2018-02-19T05:22:30',\n    'httpcode': 200,\n    'gsb': [],\n    'encoded': 'http%3A//www.intelligenesisllc.com/'}],\n  'page_num': 1,\n  'limit': 10,\n  'paged': True,\n  'has_next': False,\n  'full_size': 1,\n  'actual_size': 1},\n 'passive_dns': {'passive_dns': [{'address': '72.52.161.67',\n    'first': '2021-06-14T23:16:25',\n    'last': '2022-02-10T10:50:55',\n    'hostname': 'dl.intelligenesisllc.com',\n    'record_type': 'A',\n    'indicator_link': '/indicator/hostname/dl.intelligenesisllc.com',\n    'flag_url': 'assets/images/flags/us.png',\n    'flag_title': 'United States',\n    'asset_type': 'hostname',\n    'asn': 'AS32244 LIQUIDWEB'},\n   {'address': '67.225.132.243',\n    'first': '2021-04-24T16:53:38',\n    'last': '2021-12-20T15:32:11',\n    'hostname': 'm1.intelligenesisllc.com',\n    'record_type': 'A',\n    'indicator_link': '/indicator/hostname/m1.intelligenesisllc.com',\n    'flag_url': 'assets/images/flags/us.png',\n    'flag_title': 'United States',\n    'asset_type': 'hostname',\n    'asn': 'AS32244 LIQUIDWEB'},\n   {'address': '67.227.251.190',\n    'first': '2021-04-16T02:34:29',\n    'last': '2021-04-16T02:34:29',\n    'hostname': 'dl.intelligenesisllc.com',\n    'record_type': 'A',\n    'indicator_link': '/indicator/hostname/dl.intelligenesisllc.com',\n    'flag_url': 'assets/images/flags/us.png',\n    'flag_title': 'United States',\n    'asset_type': 'hostname',\n    'asn': 'AS32244 LIQUIDWEB'},\n   {'address': '192.124.249.64',\n    'first': '2021-03-22T17:10:46',\n    'last': '2022-01-07T12:58:19',\n    'hostname': 'intelligenesisllc.com',\n    'record_type': 'A',\n    'indicator_link': '/indicator/domain/intelligenesisllc.com',\n    'flag_url': 'assets/images/flags/us.png',\n    'flag_title': 'United States',\n    'asset_type': 'domain',\n    'asn': 'AS30148 SUCURI-SEC'},\n   {'address': 'ns05.domaincontrol.com',\n    'first': '2021-03-22T17:10:45',\n    'last': '2022-01-07T12:58:19',\n    'hostname': 'www.intelligenesisllc.com',\n    'record_type': 'NS',\n    'indicator_link': '/indicator/hostname/www.intelligenesisllc.com',\n    'flag_url': 'assets/images/flags/us.png',\n    'flag_title': 'United States',\n    'asset_type': 'hostname',\n    'asn': 'AS44273 Host Europe GmbH'},\n   {'address': 'ns06.domaincontrol.com',\n    'first': '2021-03-22T17:10:45',\n    'last': '2022-01-07T12:58:19',\n    'hostname': 'www.intelligenesisllc.com',\n    'record_type': 'NS',\n    'indicator_link': '/indicator/hostname/www.intelligenesisllc.com',\n    'flag_url': 'assets/images/flags/us.png',\n    'flag_title': 'United States',\n    'asset_type': 'hostname',\n    'asn': 'AS44273 Host Europe GmbH'},\n   {'address': '192.124.249.64',\n    'first': '2021-03-22T17:10:45',\n    'last': '2022-01-07T12:58:19',\n    'hostname': 'www.intelligenesisllc.com',\n    'record_type': 'A',\n    'indicator_link': '/indicator/hostname/www.intelligenesisllc.com',\n    'flag_url': 'assets/images/flags/us.png',\n    'flag_title': 'United States',\n    'asset_type': 'hostname',\n    'asn': 'AS30148 SUCURI-SEC'},\n   {'address': '13.68.196.108',\n    'first': '2021-01-28T16:56:25',\n    'last': '2021-01-28T16:56:25',\n    'hostname': 'staging.intelligenesisllc.com',\n    'record_type': 'A',\n    'indicator_link': '/indicator/hostname/staging.intelligenesisllc.com',\n    'flag_url': 'assets/images/flags/us.png',\n    'flag_title': 'United States',\n    'asset_type': 'hostname',\n    'asn': 'AS8075 MICROSOFT-CORP-MSN-AS-BLOCK'},\n   {'address': '13.68.196.108',\n    'first': '2020-03-08T18:59:53',\n    'last': '2022-03-11T05:52:03',\n    'hostname': 'scholarship.intelligenesisllc.com',\n    'record_type': 'A',\n    'indicator_link': '/indicator/hostname/scholarship.intelligenesisllc.com',\n    'flag_url': 'assets/images/flags/us.png',\n    'flag_title': 'United States',\n    'asset_type': 'hostname',\n    'asn': 'AS8075 MICROSOFT-CORP-MSN-AS-BLOCK'},\n   {'address': 'intelligenesisllc.com',\n    'first': '2020-01-29T17:19:29',\n    'last': '2021-01-21T17:12:34',\n    'hostname': 'www.intelligenesisllc.com',\n    'record_type': 'CNAME',\n    'indicator_link': '/indicator/hostname/www.intelligenesisllc.com',\n    'flag_url': 'assets/images/flags/us.png',\n    'flag_title': 'United States',\n    'asset_type': 'hostname',\n    'asn': 'AS30148 SUCURI-SEC'},\n   {'address': '13.68.196.108',\n    'first': '2019-11-11T16:38:34',\n    'last': '2022-03-02T00:12:40',\n    'hostname': 'census.intelligenesisllc.com',\n    'record_type': 'A',\n    'indicator_link': '/indicator/hostname/census.intelligenesisllc.com',\n    'flag_url': 'assets/images/flags/us.png',\n    'flag_title': 'United States',\n    'asset_type': 'hostname',\n    'asn': 'AS8075 MICROSOFT-CORP-MSN-AS-BLOCK'},\n   {'address': 'ns05.domaincontrol.com',\n    'first': '2019-08-04T19:05:10',\n    'last': '2021-06-04T12:59:49',\n    'hostname': 'intelligenesisllc.com',\n    'record_type': 'SOA',\n    'indicator_link': '/indicator/domain/intelligenesisllc.com',\n    'flag_url': 'assets/images/flags/us.png',\n    'flag_title': 'United States',\n    'asset_type': 'domain',\n    'asn': 'AS44273 Host Europe GmbH'},\n   {'address': 'ns06.domaincontrol.com',\n    'first': '2019-08-04T19:05:10',\n    'last': '2022-01-07T12:58:19',\n    'hostname': 'intelligenesisllc.com',\n    'record_type': 'NS',\n    'indicator_link': '/indicator/domain/intelligenesisllc.com',\n    'flag_url': 'assets/images/flags/us.png',\n    'flag_title': 'United States',\n    'asset_type': 'domain',\n    'asn': 'AS44273 Host Europe GmbH'},\n   {'address': 'ns05.domaincontrol.com',\n    'first': '2019-08-04T19:05:10',\n    'last': '2022-01-07T12:58:19',\n    'hostname': 'intelligenesisllc.com',\n    'record_type': 'NS',\n    'indicator_link': '/indicator/domain/intelligenesisllc.com',\n    'flag_url': 'assets/images/flags/us.png',\n    'flag_title': 'United States',\n    'asset_type': 'domain',\n    'asn': 'AS44273 Host Europe GmbH'},\n   {'address': '13.68.196.108',\n    'first': '2019-06-04T04:14:58',\n    'last': '2021-01-21T17:12:34',\n    'hostname': 'intelligenesisllc.com',\n    'record_type': 'A',\n    'indicator_link': '/indicator/domain/intelligenesisllc.com',\n    'flag_url': 'assets/images/flags/us.png',\n    'flag_title': 'United States',\n    'asset_type': 'domain',\n    'asn': 'AS8075 MICROSOFT-CORP-MSN-AS-BLOCK'},\n   {'address': '192.124.249.6',\n    'first': '2018-07-17T22:00:00',\n    'last': '2018-07-17T22:00:00',\n    'hostname': 'intelligenesisllc.com',\n    'record_type': 'A',\n    'indicator_link': '/indicator/domain/intelligenesisllc.com',\n    'flag_url': 'assets/images/flags/us.png',\n    'flag_title': 'United States',\n    'asset_type': 'domain',\n    'asn': 'AS30148 SUCURI-SEC'},\n   {'address': 'intelligenesisllc.com',\n    'first': '2020-01-29T17:19:29',\n    'last': '2021-01-21T17:12:34',\n    'hostname': 'www.intelligenesisllc.com',\n    'record_type': 'CNAME',\n    'indicator_link': '/indicator/hostname/www.intelligenesisllc.com',\n    'flag_url': 'assets/images/flags/us.png',\n    'flag_title': 'United States',\n    'asset_type': 'hostname',\n    'asn': 'AS30148 SUCURI-SEC'}],\n  'count': 17}}"
          },
          "metadata": {}
        }
      ],
      "execution_count": 4,
      "metadata": {
        "execution": {
          "iopub.status.busy": "2022-03-22T05:40:38.249Z",
          "iopub.execute_input": "2022-03-22T05:40:38.256Z",
          "iopub.status.idle": "2022-03-22T05:40:39.509Z",
          "shell.execute_reply": "2022-03-22T05:40:39.522Z"
        }
      }
    },
    {
      "cell_type": "code",
      "source": [
        "ips = [\"125.212.132.222\"]"
      ],
      "outputs": [],
      "execution_count": 6,
      "metadata": {
        "execution": {
          "iopub.status.busy": "2022-03-22T05:42:22.855Z",
          "iopub.execute_input": "2022-03-22T05:42:22.862Z",
          "iopub.status.idle": "2022-03-22T05:42:22.875Z",
          "shell.execute_reply": "2022-03-22T05:42:22.881Z"
        }
      }
    },
    {
      "cell_type": "code",
      "source": [
        "for ip in ips:\n",
        "    details = otx.get_indicator_details_full(IndicatorTypes.IPv4, ip)\n",
        "    print(details.keys())"
      ],
      "outputs": [
        {
          "output_type": "stream",
          "name": "stdout",
          "text": [
            "dict_keys(['general', 'reputation', 'geo', 'malware', 'url_list', 'passive_dns'])\n"
          ]
        }
      ],
      "execution_count": 7,
      "metadata": {
        "execution": {
          "iopub.status.busy": "2022-03-22T05:42:28.226Z",
          "iopub.execute_input": "2022-03-22T05:42:28.233Z",
          "iopub.status.idle": "2022-03-22T05:42:30.226Z",
          "shell.execute_reply": "2022-03-22T05:42:30.242Z"
        }
      }
    },
    {
      "cell_type": "code",
      "source": [
        "pd.json_normalize(details['general'])"
      ],
      "outputs": [
        {
          "output_type": "execute_result",
          "execution_count": 8,
          "data": {
            "text/plain": "                                          whois  reputation        indicator  \\\n0  http://whois.domaintools.com/125.212.132.222           0  125.212.132.222   \n\n   type type_title false_positive validation                   asn  city_data  \\\n0  IPv4       IPv4             []         []  AS7552 Viettel Group       True   \n\n    city  ... base_indicator.access_reason pulse_info.count  \\\n0  Hanoi  ...                                            13   \n\n                                   pulse_info.pulses  \\\n0  [{'id': '615fb645de3f4c53bf4b20e4', 'name': '对...   \n\n                               pulse_info.references  \\\n0  [MAR-10135536-A_WHITE_stix.xml, sources.txt, T...   \n\n  pulse_info.related.alienvault.adversary  \\\n0                                      []   \n\n   pulse_info.related.alienvault.malware_families  \\\n0                                              []   \n\n  pulse_info.related.alienvault.industries  \\\n0                                       []   \n\n                  pulse_info.related.other.adversary  \\\n0  [North Korea, DPRK, Lazarus Group, Lazarus, HI...   \n\n   pulse_info.related.other.malware_families  \\\n0                                [Fallchill]   \n\n  pulse_info.related.other.industries  \n0                        [Technology]  \n\n[1 rows x 44 columns]",
            "text/html": "<div>\n<style scoped>\n    .dataframe tbody tr th:only-of-type {\n        vertical-align: middle;\n    }\n\n    .dataframe tbody tr th {\n        vertical-align: top;\n    }\n\n    .dataframe thead th {\n        text-align: right;\n    }\n</style>\n<table border=\"1\" class=\"dataframe\">\n  <thead>\n    <tr style=\"text-align: right;\">\n      <th></th>\n      <th>whois</th>\n      <th>reputation</th>\n      <th>indicator</th>\n      <th>type</th>\n      <th>type_title</th>\n      <th>false_positive</th>\n      <th>validation</th>\n      <th>asn</th>\n      <th>city_data</th>\n      <th>city</th>\n      <th>...</th>\n      <th>base_indicator.access_reason</th>\n      <th>pulse_info.count</th>\n      <th>pulse_info.pulses</th>\n      <th>pulse_info.references</th>\n      <th>pulse_info.related.alienvault.adversary</th>\n      <th>pulse_info.related.alienvault.malware_families</th>\n      <th>pulse_info.related.alienvault.industries</th>\n      <th>pulse_info.related.other.adversary</th>\n      <th>pulse_info.related.other.malware_families</th>\n      <th>pulse_info.related.other.industries</th>\n    </tr>\n  </thead>\n  <tbody>\n    <tr>\n      <th>0</th>\n      <td>http://whois.domaintools.com/125.212.132.222</td>\n      <td>0</td>\n      <td>125.212.132.222</td>\n      <td>IPv4</td>\n      <td>IPv4</td>\n      <td>[]</td>\n      <td>[]</td>\n      <td>AS7552 Viettel Group</td>\n      <td>True</td>\n      <td>Hanoi</td>\n      <td>...</td>\n      <td></td>\n      <td>13</td>\n      <td>[{'id': '615fb645de3f4c53bf4b20e4', 'name': '对...</td>\n      <td>[MAR-10135536-A_WHITE_stix.xml, sources.txt, T...</td>\n      <td>[]</td>\n      <td>[]</td>\n      <td>[]</td>\n      <td>[North Korea, DPRK, Lazarus Group, Lazarus, HI...</td>\n      <td>[Fallchill]</td>\n      <td>[Technology]</td>\n    </tr>\n  </tbody>\n</table>\n<p>1 rows × 44 columns</p>\n</div>"
          },
          "metadata": {}
        }
      ],
      "execution_count": 8,
      "metadata": {
        "execution": {
          "iopub.status.busy": "2022-03-22T05:42:40.744Z",
          "iopub.execute_input": "2022-03-22T05:42:40.751Z",
          "iopub.status.idle": "2022-03-22T05:42:40.776Z",
          "shell.execute_reply": "2022-03-22T05:42:40.782Z"
        }
      }
    },
    {
      "cell_type": "code",
      "source": [
        "print(details['general']['pulse_info'])"
      ],
      "outputs": [
        {
          "output_type": "stream",
          "name": "stdout",
          "text": [
            "{'count': 13, 'pulses': [{'id': '615fb645de3f4c53bf4b20e4', 'name': '对 Lazarus 名为 FALLCHILL 的 RAT 的详细分析', 'description': 'Lazarus Group 名为 F FallCHILL 的 RAT 的详细分析，由 LIFARS 发布的白皮书，展示了该恶意软件是如何设计来加密和解密文件的。', 'modified': '2021-11-07T00:03:12.766000', 'created': '2021-10-08T03:08:53.187000', 'tags': ['fallchill', 'lazarus group'], 'references': ['https://lifars.com/knowledge-center/a-detailed-analysis-of-lazarus-rat-called-fallchill/'], 'public': 1, 'adversary': 'Lazarus', 'targeted_countries': [], 'malware_families': [{'id': 'FALLCHILL', 'display_name': 'FALLCHILL', 'target': None}], 'attack_ids': [{'id': 'T1140', 'name': 'Deobfuscate/Decode Files or Information', 'display_name': 'T1140 - Deobfuscate/Decode Files or Information'}, {'id': 'T1082', 'name': 'System Information Discovery', 'display_name': 'T1082 - System Information Discovery'}], 'industries': [], 'TLP': 'white', 'cloned_from': None, 'export_count': 2, 'upvotes_count': 0, 'downvotes_count': 0, 'votes_count': 0, 'locked': False, 'pulse_source': 'web', 'validator_count': 0, 'comment_count': 0, 'follower_count': 0, 'vote': 0, 'author': {'username': 'jianling_xiang', 'id': '160156', 'avatar_url': 'https://otx.alienvault.com/assets/images/default-avatar.png', 'is_subscribed': False, 'is_following': False}, 'indicator_type_counts': {}, 'indicator_count': 0, 'is_author': False, 'is_subscribing': None, 'subscriber_count': 26, 'modified_text': '135 days ago ', 'is_modified': True, 'groups': [], 'in_group': False, 'threat_hunter_scannable': False, 'threat_hunter_has_agents': 1, 'related_indicator_type': 'IPv4', 'related_indicator_is_active': 0}, {'id': '5b3188f5c1b20e04c0de0bd5', 'name': 'FallChill IOC - Kordia', 'description': '', 'modified': '2019-11-07T20:21:15.662000', 'created': '2018-06-26T00:29:41.400000', 'tags': [], 'references': ['TA FALLCHILL IOCs.csv', 'https://www.us-cert.gov/ncas/alerts/TA17-318A'], 'public': 1, 'adversary': '', 'targeted_countries': [], 'malware_families': [], 'attack_ids': [], 'industries': [], 'TLP': 'white', 'cloned_from': '5a0b907efee07f7518a21123', 'export_count': 6, 'upvotes_count': 0, 'downvotes_count': 0, 'votes_count': 0, 'locked': True, 'pulse_source': 'web', 'validator_count': 0, 'comment_count': 0, 'follower_count': 0, 'vote': 0, 'author': {'username': 'korda_networks', 'id': '13857', 'avatar_url': 'https://otx.alienvault.com/assets/images/default-avatar.png', 'is_subscribed': False, 'is_following': False}, 'indicator_type_counts': {'URL': 31, 'hostname': 27, 'IPv4': 85, 'domain': 17, 'FileHash-SHA256': 2, 'FileHash-MD5': 3, 'FileHash-SHA1': 2}, 'indicator_count': 167, 'is_author': False, 'is_subscribing': None, 'subscriber_count': 44, 'modified_text': '865 days ago ', 'is_modified': True, 'groups': [], 'in_group': False, 'threat_hunter_scannable': True, 'threat_hunter_has_agents': 1, 'related_indicator_type': 'IPv4', 'related_indicator_is_active': 1}, {'id': '5b7c24fd62be3109ffcfd903', 'name': '8/21/18 Scenario', 'description': 'Hunt Scenario', 'modified': '2018-08-21T14:43:09.912000', 'created': '2018-08-21T14:43:09.912000', 'tags': [], 'references': [], 'public': 1, 'adversary': '', 'targeted_countries': [], 'malware_families': [], 'attack_ids': [], 'industries': [], 'TLP': 'white', 'cloned_from': None, 'export_count': 1, 'upvotes_count': 0, 'downvotes_count': 0, 'votes_count': 0, 'locked': False, 'pulse_source': 'web', 'validator_count': 0, 'comment_count': 0, 'follower_count': 0, 'vote': 0, 'author': {'username': 'parthanaidu', 'id': '62403', 'avatar_url': 'https://otx.alienvault.com/assets/images/default-avatar.png', 'is_subscribed': False, 'is_following': False}, 'indicator_type_counts': {'IPv4': 28}, 'indicator_count': 28, 'is_author': False, 'is_subscribing': None, 'subscriber_count': 26, 'modified_text': '1308 days ago ', 'is_modified': False, 'groups': [], 'in_group': False, 'threat_hunter_scannable': True, 'threat_hunter_has_agents': 1, 'related_indicator_type': 'IPv4', 'related_indicator_is_active': 1}, {'id': '5a0c81d2aa066452b990a598', 'name': 'UPDATE:  Additional FallChill IOCs', 'description': 'I did my own forensic testing and discovered additional FallChill IOCs.  Some of these IP are simple HELLO initial connections while another is the malware hosing IP.', 'modified': '2018-03-09T21:54:55.942000', 'created': '2017-11-15T18:05:06.775000', 'tags': ['FallChill', 'Hidden Cobra', 'DPRK', 'North Korea'], 'references': [], 'public': 1, 'adversary': 'DPRK', 'targeted_countries': ['Korea, Republic of', 'United States'], 'malware_families': [], 'attack_ids': [], 'industries': ['Technology'], 'TLP': 'white', 'cloned_from': None, 'export_count': 20, 'upvotes_count': 0, 'downvotes_count': 0, 'votes_count': 0, 'locked': False, 'pulse_source': 'web', 'validator_count': 0, 'comment_count': 5, 'follower_count': 0, 'vote': 0, 'author': {'username': 'Bulwarkz', 'id': '12587', 'avatar_url': '/otxapi/users/avatar_image/media/avatars/Bulwarkz/resized/80/bulwarkz-logo-new.png', 'is_subscribed': False, 'is_following': False}, 'indicator_type_counts': {'IPv4': 9}, 'indicator_count': 9, 'is_author': False, 'is_subscribing': None, 'subscriber_count': 135, 'modified_text': '1473 days ago ', 'is_modified': True, 'groups': [], 'in_group': False, 'threat_hunter_scannable': True, 'threat_hunter_has_agents': 1, 'related_indicator_type': 'IPv4', 'related_indicator_is_active': 1}, {'id': '5a539e4e80fc9f0948815e6e', 'name': 'HIDDEN COBRA – North Korean Remote Administration Tool: FALLCHILL', 'description': 'This joint Technical Alert (TA) is the result of analytic efforts between the Department of Homeland Security (DHS) and the Federal Bureau of Investigation (FBI). Working with U.S. government partners, DHS and FBI identified Internet Protocol (IP) addresses and other indicators of compromise (IOCs) associated with a remote administration tool (RAT) used by the North Korean government—commonly known as FALLCHILL. The U.S. Government refers to malicious cyber activity by the North Korean government as HIDDEN COBRA. For more information on HIDDEN COBRA activity, visit https://www.us-cert.gov/hiddencobra.\\n\\nFBI has high confidence that HIDDEN COBRA actors are using the IP addresses—listed in this report’s IOC files—to maintain a presence on victims’ networks and to further network exploitation. DHS and FBI are distributing these IP addresses to enable network defense and reduce exposure to any North Korean government malicious cyber activity.', 'modified': '2018-01-08T16:37:34.456000', 'created': '2018-01-08T16:37:34.456000', 'tags': [], 'references': ['MAR-10135536-A_WHITE_stix.xml', 'TA-17-318A-IOCs.xml'], 'public': 1, 'adversary': 'HIDDEN COBRA', 'targeted_countries': [], 'malware_families': [], 'attack_ids': [], 'industries': [], 'TLP': 'white', 'cloned_from': None, 'export_count': 24, 'upvotes_count': 0, 'downvotes_count': 0, 'votes_count': 0, 'locked': False, 'pulse_source': 'web', 'validator_count': 0, 'comment_count': 0, 'follower_count': 0, 'vote': 0, 'author': {'username': 'Gargomel', 'id': '17466', 'avatar_url': 'https://otx.alienvault.com/assets/images/default-avatar.png', 'is_subscribed': False, 'is_following': False}, 'indicator_type_counts': {'FileHash-SHA256': 2, 'FileHash-MD5': 2, 'FileHash-SHA1': 2, 'IPv4': 86}, 'indicator_count': 92, 'is_author': False, 'is_subscribing': None, 'subscriber_count': 125, 'modified_text': '1533 days ago ', 'is_modified': False, 'groups': [], 'in_group': False, 'threat_hunter_scannable': True, 'threat_hunter_has_agents': 1, 'related_indicator_type': 'IPv4', 'related_indicator_is_active': 1}, {'id': '5a0c5eb5fee07f451da21123', 'name': 'HIDDEN COBRA – North Korean Remote Administration Tool: FALLCHILL', 'description': 'https://www.us-cert.gov/ncas/alerts/TA17-318A', 'modified': '2017-12-09T20:12:15.856000', 'created': '2017-11-15T15:35:17.717000', 'tags': [], 'references': ['TA FALLCHILL IOCs.csv'], 'public': 1, 'adversary': '', 'targeted_countries': [], 'malware_families': [], 'attack_ids': [], 'industries': [], 'TLP': 'white', 'cloned_from': None, 'export_count': 16, 'upvotes_count': 0, 'downvotes_count': 0, 'votes_count': 0, 'locked': True, 'pulse_source': 'web', 'validator_count': 0, 'comment_count': 0, 'follower_count': 0, 'vote': 0, 'author': {'username': 'PolycomPSO', 'id': '14373', 'avatar_url': 'https://otx.alienvault.com/assets/images/default-avatar.png', 'is_subscribed': False, 'is_following': False}, 'indicator_type_counts': {'FileHash-MD5': 2, 'IPv4': 86}, 'indicator_count': 88, 'is_author': False, 'is_subscribing': None, 'subscriber_count': 40, 'modified_text': '1563 days ago ', 'is_modified': True, 'groups': [], 'in_group': False, 'threat_hunter_scannable': True, 'threat_hunter_has_agents': 1, 'related_indicator_type': 'IPv4', 'related_indicator_is_active': 1}, {'id': '5a1f0a45ec507b53c218fcd9', 'name': 'A Deep Dive Analysis of the FALLCHILL Remote Administration Tool | Fortinet Blog', 'description': '', 'modified': '2017-11-29T19:28:05.360000', 'created': '2017-11-29T19:28:05.360000', 'tags': ['fallchill', 'fortiguard labs', 'c2 ip', 'hidden cobra', 'iocs', 'north korean', 'zlib', 'north korea', 'apis', 'sony', 'vietnam', 'us-cert', 'sign'], 'references': ['http://blog.fortinet.com/2017/11/28/a-deep-dive-analysis-of-the-fallchill-remote-administration-tool'], 'public': 1, 'adversary': 'Lazarus Group', 'targeted_countries': [], 'malware_families': [], 'attack_ids': [], 'industries': [], 'TLP': 'white', 'cloned_from': None, 'export_count': 12, 'upvotes_count': 0, 'downvotes_count': 0, 'votes_count': 0, 'locked': False, 'pulse_source': 'web', 'validator_count': 0, 'comment_count': 0, 'follower_count': 0, 'vote': 0, 'author': {'username': 'KonstantinJM', 'id': '17354', 'avatar_url': '/otxapi/users/avatar_image/media/avatars/user_17354/resized/80/avatar_99bf8521b6.png', 'is_subscribed': False, 'is_following': False}, 'indicator_type_counts': {'FileHash-SHA256': 2, 'IPv4': 2}, 'indicator_count': 4, 'is_author': False, 'is_subscribing': None, 'subscriber_count': 145, 'modified_text': '1573 days ago ', 'is_modified': False, 'groups': [], 'in_group': False, 'threat_hunter_scannable': True, 'threat_hunter_has_agents': 1, 'related_indicator_type': 'IPv4', 'related_indicator_is_active': 1}, {'id': '5a159aaed519a216f6607e37', 'name': 'HIDDEN COBRA: FALLCHILL – Remote Administration Tool', 'description': 'HIDDEN COBRA: FALLCHILL – Remote Administration Tool', 'modified': '2017-11-22T15:41:34.091000', 'created': '2017-11-22T15:41:34.091000', 'tags': [], 'references': [], 'public': 1, 'adversary': '', 'targeted_countries': [], 'malware_families': [], 'attack_ids': [], 'industries': [], 'TLP': 'green', 'cloned_from': None, 'export_count': 20, 'upvotes_count': 0, 'downvotes_count': 0, 'votes_count': 0, 'locked': False, 'pulse_source': 'web', 'validator_count': 0, 'comment_count': 0, 'follower_count': 0, 'vote': 0, 'author': {'username': 'OTXjonah', 'id': '29998', 'avatar_url': '/otxapi/users/avatar_image/media/avatars/user_29998/resized/80/avatar_5467d94286.png', 'is_subscribed': False, 'is_following': False}, 'indicator_type_counts': {'domain': 9, 'hostname': 19, 'FileHash-MD5': 3, 'IPv4': 86}, 'indicator_count': 117, 'is_author': False, 'is_subscribing': None, 'subscriber_count': 245, 'modified_text': '1580 days ago ', 'is_modified': False, 'groups': [], 'in_group': False, 'threat_hunter_scannable': True, 'threat_hunter_has_agents': 1, 'related_indicator_type': 'IPv4', 'related_indicator_is_active': 1}, {'id': '5a0c7211eaf3a73e667dc8e2', 'name': 'US-CERT Alert (TA17-318A): HIDDEN COBRA – North Korean Remote Administration Tool: FALLCHILL', 'description': 'his joint Technical Alert (TA) is the result of analytic efforts between the Department of Homeland Security (DHS) and the Federal Bureau of Investigation (FBI). Working with U.S. government partners, DHS and FBI identified Internet Protocol (IP) addresses and other indicators of compromise (IOCs) associated with a remote administration tool (RAT) used by the North Korean government—commonly known as FALLCHILL. The U.S. Government refers to malicious cyber activity by the North Korean government as HIDDEN COBRA. For more information on HIDDEN COBRA activity, visit https://www.us-cert.gov/hiddencobra.', 'modified': '2017-11-15T16:57:53.348000', 'created': '2017-11-15T16:57:53.348000', 'tags': [], 'references': [], 'public': 1, 'adversary': '', 'targeted_countries': [], 'malware_families': [], 'attack_ids': [], 'industries': [], 'TLP': 'white', 'cloned_from': None, 'export_count': 32, 'upvotes_count': 0, 'downvotes_count': 0, 'votes_count': 0, 'locked': False, 'pulse_source': 'web', 'validator_count': 0, 'comment_count': 0, 'follower_count': 0, 'vote': 0, 'author': {'username': 'OTXjonah', 'id': '29998', 'avatar_url': '/otxapi/users/avatar_image/media/avatars/user_29998/resized/80/avatar_5467d94286.png', 'is_subscribed': False, 'is_following': False}, 'indicator_type_counts': {'FileHash-MD5': 2, 'IPv4': 86}, 'indicator_count': 88, 'is_author': False, 'is_subscribing': None, 'subscriber_count': 251, 'modified_text': '1587 days ago ', 'is_modified': False, 'groups': [], 'in_group': False, 'threat_hunter_scannable': True, 'threat_hunter_has_agents': 1, 'related_indicator_type': 'IPv4', 'related_indicator_is_active': 1}, {'id': '5a0c71945fe42a52b2031e7c', 'name': 'NCCIC/US-CERT: Malware Analysis Report (MAR) - 10135536-A', 'description': 'This report is provided &quot;as is&quot; for informational purposes only. The Department of Homeland Security (DHS) does not provide any warranties of any kind regarding any information contained within. The DHS does not endorse any commercial product or service, referenced in this bulletin or otherwise.', 'modified': '2017-11-15T16:55:48.858000', 'created': '2017-11-15T16:55:48.858000', 'tags': [], 'references': [], 'public': 1, 'adversary': '', 'targeted_countries': [], 'malware_families': [], 'attack_ids': [], 'industries': [], 'TLP': 'white', 'cloned_from': None, 'export_count': 13, 'upvotes_count': 0, 'downvotes_count': 0, 'votes_count': 0, 'locked': False, 'pulse_source': 'web', 'validator_count': 0, 'comment_count': 0, 'follower_count': 0, 'vote': 0, 'author': {'username': 'OTXjonah', 'id': '29998', 'avatar_url': '/otxapi/users/avatar_image/media/avatars/user_29998/resized/80/avatar_5467d94286.png', 'is_subscribed': False, 'is_following': False}, 'indicator_type_counts': {'FileHash-MD5': 2, 'IPv4': 2}, 'indicator_count': 4, 'is_author': False, 'is_subscribing': None, 'subscriber_count': 239, 'modified_text': '1587 days ago ', 'is_modified': False, 'groups': [], 'in_group': False, 'threat_hunter_scannable': True, 'threat_hunter_has_agents': 1, 'related_indicator_type': 'IPv4', 'related_indicator_is_active': 1}, {'id': '5a0c65befd01126f5da56957', 'name': 'HIDDEN COBRA – North Korean Remote Administration Tool: FALLCHILL', 'description': '', 'modified': '2017-11-15T16:05:18.209000', 'created': '2017-11-15T16:05:18.209000', 'tags': ['department', 'disclosure', 'white', 'disclaimer', 'hidden cobra', 'argentina', 'china', 'destover', 'multiple', 'november', 'october', 'inc.', 'canada', 'iocs', 'sality', 'conficker', 'india', 'czech republic', 'sha256', 'html', 'july', 'sha1', 'vietnam', 'june', 'january', 'ssdeep', 'javascript', 'zimbabwe'], 'references': ['https://www.us-cert.gov/sites/default/files/publications/TA%20FALLCHILL%20IOCs.xml'], 'public': 1, 'adversary': '', 'targeted_countries': [], 'malware_families': [], 'attack_ids': [], 'industries': [], 'TLP': 'white', 'cloned_from': None, 'export_count': 26, 'upvotes_count': 0, 'downvotes_count': 0, 'votes_count': 0, 'locked': False, 'pulse_source': 'web', 'validator_count': 0, 'comment_count': 0, 'follower_count': 0, 'vote': 0, 'author': {'username': 'TVMSSP', 'id': '11822', 'avatar_url': '/otxapi/users/avatar_image/media/avatars/user_11822/resized/80/avatar_adca1aa1e3.png', 'is_subscribed': False, 'is_following': False}, 'indicator_type_counts': {'domain': 12, 'FileHash-SHA256': 2, 'URL': 2, 'hostname': 25, 'FileHash-MD5': 3, 'FileHash-SHA1': 2, 'IPv4': 86}, 'indicator_count': 132, 'is_author': False, 'is_subscribing': None, 'subscriber_count': 56, 'modified_text': '1587 days ago ', 'is_modified': False, 'groups': [], 'in_group': False, 'threat_hunter_scannable': True, 'threat_hunter_has_agents': 1, 'related_indicator_type': 'IPv4', 'related_indicator_is_active': 1}, {'id': '5a0b907efee07f7518a21123', 'name': 'FallChill IOC', 'description': 'Hidden Cobra and Fall Chill IOC', 'modified': '2017-11-15T00:55:26.960000', 'created': '2017-11-15T00:55:26.960000', 'tags': [], 'references': ['TA FALLCHILL IOCs.csv', 'https://www.us-cert.gov/ncas/alerts/TA17-318A'], 'public': 1, 'adversary': '', 'targeted_countries': [], 'malware_families': [], 'attack_ids': [], 'industries': [], 'TLP': 'white', 'cloned_from': None, 'export_count': 25, 'upvotes_count': 0, 'downvotes_count': 0, 'votes_count': 0, 'locked': False, 'pulse_source': 'web', 'validator_count': 0, 'comment_count': 0, 'follower_count': 0, 'vote': 0, 'author': {'username': 'seaton@sentinel.com', 'id': '5254', 'avatar_url': 'https://otx.alienvault.com/assets/images/default-avatar.png', 'is_subscribed': False, 'is_following': False}, 'indicator_type_counts': {'URL': 32, 'hostname': 30, 'IPv4': 88, 'domain': 19, 'FileHash-SHA256': 2, 'FileHash-MD5': 3, 'FileHash-SHA1': 2}, 'indicator_count': 176, 'is_author': False, 'is_subscribing': None, 'subscriber_count': 69, 'modified_text': '1588 days ago ', 'is_modified': False, 'groups': [], 'in_group': False, 'threat_hunter_scannable': True, 'threat_hunter_has_agents': 1, 'related_indicator_type': 'IPv4', 'related_indicator_is_active': 1}, {'id': '5a0b4ae6fd011279f6a56957', 'name': 'HIDDEN COBRA – North Korean Remote Administration Tool: FALLCHILL Original release date: November 14, 2017', 'description': 'This joint Technical Alert (TA) is the result of analytic efforts between the Department of Homeland Security (DHS) and the Federal Bureau of Investigation (FBI). Working with U.S. government partners, DHS and FBI identified Internet Protocol (IP) addresses and other indicators of compromise (IOCs) associated with a remote administration tool (RAT) used by the North Korean government—commonly known as FALLCHILL. The U.S. Government refers to malicious cyber activity by the North Korean government as HIDDEN COBRA. For more information on HIDDEN COBRA activity, visit https://www.us-cert.gov/hiddencobra.', 'modified': '2017-11-14T19:58:30.253000', 'created': '2017-11-14T19:58:30.253000', 'tags': [], 'references': ['sources.txt', 'https://www.us-cert.gov/ncas/alerts/TA17-318A'], 'public': 1, 'adversary': 'North Korea', 'targeted_countries': [], 'malware_families': [], 'attack_ids': [], 'industries': [], 'TLP': 'green', 'cloned_from': None, 'export_count': 22, 'upvotes_count': 0, 'downvotes_count': 0, 'votes_count': 0, 'locked': False, 'pulse_source': 'web', 'validator_count': 0, 'comment_count': 0, 'follower_count': 0, 'vote': 0, 'author': {'username': 'mpeter05', 'id': '23174', 'avatar_url': 'https://otx.alienvault.com/assets/images/default-avatar.png', 'is_subscribed': False, 'is_following': False}, 'indicator_type_counts': {'FileHash-MD5': 2, 'IPv4': 86}, 'indicator_count': 88, 'is_author': False, 'is_subscribing': None, 'subscriber_count': 203, 'modified_text': '1588 days ago ', 'is_modified': False, 'groups': [], 'in_group': False, 'threat_hunter_scannable': True, 'threat_hunter_has_agents': 1, 'related_indicator_type': 'IPv4', 'related_indicator_is_active': 1}], 'references': ['MAR-10135536-A_WHITE_stix.xml', 'sources.txt', 'TA FALLCHILL IOCs.csv', 'https://www.us-cert.gov/sites/default/files/publications/TA%20FALLCHILL%20IOCs.xml', 'TA-17-318A-IOCs.xml', 'https://lifars.com/knowledge-center/a-detailed-analysis-of-lazarus-rat-called-fallchill/', 'https://www.us-cert.gov/ncas/alerts/TA17-318A', 'http://blog.fortinet.com/2017/11/28/a-deep-dive-analysis-of-the-fallchill-remote-administration-tool'], 'related': {'alienvault': {'adversary': [], 'malware_families': [], 'industries': []}, 'other': {'adversary': ['North Korea', 'DPRK', 'Lazarus Group', 'Lazarus', 'HIDDEN COBRA'], 'malware_families': ['Fallchill'], 'industries': ['Technology']}}}\n"
          ]
        }
      ],
      "execution_count": 9,
      "metadata": {
        "execution": {
          "iopub.status.busy": "2022-03-22T05:43:03.536Z",
          "iopub.execute_input": "2022-03-22T05:43:03.543Z",
          "iopub.status.idle": "2022-03-22T05:43:03.592Z",
          "shell.execute_reply": "2022-03-22T05:43:03.599Z"
        }
      }
    },
    {
      "cell_type": "code",
      "source": [
        "df = pd.json_normalize(details['general']['pulse_info'])"
      ],
      "outputs": [],
      "execution_count": 10,
      "metadata": {
        "execution": {
          "iopub.status.busy": "2022-03-22T05:43:20.019Z",
          "iopub.execute_input": "2022-03-22T05:43:20.025Z",
          "iopub.status.idle": "2022-03-22T05:43:20.035Z",
          "shell.execute_reply": "2022-03-22T05:43:20.039Z"
        }
      }
    },
    {
      "cell_type": "code",
      "source": [
        "df.dtypes"
      ],
      "outputs": [
        {
          "output_type": "execute_result",
          "execution_count": 11,
          "data": {
            "text/plain": "count                                   int64\npulses                                 object\nreferences                             object\nrelated.alienvault.adversary           object\nrelated.alienvault.malware_families    object\nrelated.alienvault.industries          object\nrelated.other.adversary                object\nrelated.other.malware_families         object\nrelated.other.industries               object\ndtype: object"
          },
          "metadata": {}
        }
      ],
      "execution_count": 11,
      "metadata": {
        "execution": {
          "iopub.status.busy": "2022-03-22T05:43:26.391Z",
          "iopub.execute_input": "2022-03-22T05:43:26.396Z",
          "iopub.status.idle": "2022-03-22T05:43:26.485Z",
          "shell.execute_reply": "2022-03-22T05:43:26.489Z"
        }
      }
    },
    {
      "cell_type": "code",
      "source": [
        "df.pulses[0]"
      ],
      "outputs": [
        {
          "output_type": "execute_result",
          "execution_count": 12,
          "data": {
            "text/plain": "[{'id': '615fb645de3f4c53bf4b20e4',\n  'name': '对 Lazarus 名为 FALLCHILL 的 RAT 的详细分析',\n  'description': 'Lazarus Group 名为 F FallCHILL 的 RAT 的详细分析，由 LIFARS 发布的白皮书，展示了该恶意软件是如何设计来加密和解密文件的。',\n  'modified': '2021-11-07T00:03:12.766000',\n  'created': '2021-10-08T03:08:53.187000',\n  'tags': ['fallchill', 'lazarus group'],\n  'references': ['https://lifars.com/knowledge-center/a-detailed-analysis-of-lazarus-rat-called-fallchill/'],\n  'public': 1,\n  'adversary': 'Lazarus',\n  'targeted_countries': [],\n  'malware_families': [{'id': 'FALLCHILL',\n    'display_name': 'FALLCHILL',\n    'target': None}],\n  'attack_ids': [{'id': 'T1140',\n    'name': 'Deobfuscate/Decode Files or Information',\n    'display_name': 'T1140 - Deobfuscate/Decode Files or Information'},\n   {'id': 'T1082',\n    'name': 'System Information Discovery',\n    'display_name': 'T1082 - System Information Discovery'}],\n  'industries': [],\n  'TLP': 'white',\n  'cloned_from': None,\n  'export_count': 2,\n  'upvotes_count': 0,\n  'downvotes_count': 0,\n  'votes_count': 0,\n  'locked': False,\n  'pulse_source': 'web',\n  'validator_count': 0,\n  'comment_count': 0,\n  'follower_count': 0,\n  'vote': 0,\n  'author': {'username': 'jianling_xiang',\n   'id': '160156',\n   'avatar_url': 'https://otx.alienvault.com/assets/images/default-avatar.png',\n   'is_subscribed': False,\n   'is_following': False},\n  'indicator_type_counts': {},\n  'indicator_count': 0,\n  'is_author': False,\n  'is_subscribing': None,\n  'subscriber_count': 26,\n  'modified_text': '135 days ago ',\n  'is_modified': True,\n  'groups': [],\n  'in_group': False,\n  'threat_hunter_scannable': False,\n  'threat_hunter_has_agents': 1,\n  'related_indicator_type': 'IPv4',\n  'related_indicator_is_active': 0},\n {'id': '5b3188f5c1b20e04c0de0bd5',\n  'name': 'FallChill IOC - Kordia',\n  'description': '',\n  'modified': '2019-11-07T20:21:15.662000',\n  'created': '2018-06-26T00:29:41.400000',\n  'tags': [],\n  'references': ['TA FALLCHILL IOCs.csv',\n   'https://www.us-cert.gov/ncas/alerts/TA17-318A'],\n  'public': 1,\n  'adversary': '',\n  'targeted_countries': [],\n  'malware_families': [],\n  'attack_ids': [],\n  'industries': [],\n  'TLP': 'white',\n  'cloned_from': '5a0b907efee07f7518a21123',\n  'export_count': 6,\n  'upvotes_count': 0,\n  'downvotes_count': 0,\n  'votes_count': 0,\n  'locked': True,\n  'pulse_source': 'web',\n  'validator_count': 0,\n  'comment_count': 0,\n  'follower_count': 0,\n  'vote': 0,\n  'author': {'username': 'korda_networks',\n   'id': '13857',\n   'avatar_url': 'https://otx.alienvault.com/assets/images/default-avatar.png',\n   'is_subscribed': False,\n   'is_following': False},\n  'indicator_type_counts': {'URL': 31,\n   'hostname': 27,\n   'IPv4': 85,\n   'domain': 17,\n   'FileHash-SHA256': 2,\n   'FileHash-MD5': 3,\n   'FileHash-SHA1': 2},\n  'indicator_count': 167,\n  'is_author': False,\n  'is_subscribing': None,\n  'subscriber_count': 44,\n  'modified_text': '865 days ago ',\n  'is_modified': True,\n  'groups': [],\n  'in_group': False,\n  'threat_hunter_scannable': True,\n  'threat_hunter_has_agents': 1,\n  'related_indicator_type': 'IPv4',\n  'related_indicator_is_active': 1},\n {'id': '5b7c24fd62be3109ffcfd903',\n  'name': '8/21/18 Scenario',\n  'description': 'Hunt Scenario',\n  'modified': '2018-08-21T14:43:09.912000',\n  'created': '2018-08-21T14:43:09.912000',\n  'tags': [],\n  'references': [],\n  'public': 1,\n  'adversary': '',\n  'targeted_countries': [],\n  'malware_families': [],\n  'attack_ids': [],\n  'industries': [],\n  'TLP': 'white',\n  'cloned_from': None,\n  'export_count': 1,\n  'upvotes_count': 0,\n  'downvotes_count': 0,\n  'votes_count': 0,\n  'locked': False,\n  'pulse_source': 'web',\n  'validator_count': 0,\n  'comment_count': 0,\n  'follower_count': 0,\n  'vote': 0,\n  'author': {'username': 'parthanaidu',\n   'id': '62403',\n   'avatar_url': 'https://otx.alienvault.com/assets/images/default-avatar.png',\n   'is_subscribed': False,\n   'is_following': False},\n  'indicator_type_counts': {'IPv4': 28},\n  'indicator_count': 28,\n  'is_author': False,\n  'is_subscribing': None,\n  'subscriber_count': 26,\n  'modified_text': '1308 days ago ',\n  'is_modified': False,\n  'groups': [],\n  'in_group': False,\n  'threat_hunter_scannable': True,\n  'threat_hunter_has_agents': 1,\n  'related_indicator_type': 'IPv4',\n  'related_indicator_is_active': 1},\n {'id': '5a0c81d2aa066452b990a598',\n  'name': 'UPDATE:  Additional FallChill IOCs',\n  'description': 'I did my own forensic testing and discovered additional FallChill IOCs.  Some of these IP are simple HELLO initial connections while another is the malware hosing IP.',\n  'modified': '2018-03-09T21:54:55.942000',\n  'created': '2017-11-15T18:05:06.775000',\n  'tags': ['FallChill', 'Hidden Cobra', 'DPRK', 'North Korea'],\n  'references': [],\n  'public': 1,\n  'adversary': 'DPRK',\n  'targeted_countries': ['Korea, Republic of', 'United States'],\n  'malware_families': [],\n  'attack_ids': [],\n  'industries': ['Technology'],\n  'TLP': 'white',\n  'cloned_from': None,\n  'export_count': 20,\n  'upvotes_count': 0,\n  'downvotes_count': 0,\n  'votes_count': 0,\n  'locked': False,\n  'pulse_source': 'web',\n  'validator_count': 0,\n  'comment_count': 5,\n  'follower_count': 0,\n  'vote': 0,\n  'author': {'username': 'Bulwarkz',\n   'id': '12587',\n   'avatar_url': '/otxapi/users/avatar_image/media/avatars/Bulwarkz/resized/80/bulwarkz-logo-new.png',\n   'is_subscribed': False,\n   'is_following': False},\n  'indicator_type_counts': {'IPv4': 9},\n  'indicator_count': 9,\n  'is_author': False,\n  'is_subscribing': None,\n  'subscriber_count': 135,\n  'modified_text': '1473 days ago ',\n  'is_modified': True,\n  'groups': [],\n  'in_group': False,\n  'threat_hunter_scannable': True,\n  'threat_hunter_has_agents': 1,\n  'related_indicator_type': 'IPv4',\n  'related_indicator_is_active': 1},\n {'id': '5a539e4e80fc9f0948815e6e',\n  'name': 'HIDDEN COBRA – North Korean Remote Administration Tool: FALLCHILL',\n  'description': 'This joint Technical Alert (TA) is the result of analytic efforts between the Department of Homeland Security (DHS) and the Federal Bureau of Investigation (FBI). Working with U.S. government partners, DHS and FBI identified Internet Protocol (IP) addresses and other indicators of compromise (IOCs) associated with a remote administration tool (RAT) used by the North Korean government—commonly known as FALLCHILL. The U.S. Government refers to malicious cyber activity by the North Korean government as HIDDEN COBRA. For more information on HIDDEN COBRA activity, visit https://www.us-cert.gov/hiddencobra.\\n\\nFBI has high confidence that HIDDEN COBRA actors are using the IP addresses—listed in this report’s IOC files—to maintain a presence on victims’ networks and to further network exploitation. DHS and FBI are distributing these IP addresses to enable network defense and reduce exposure to any North Korean government malicious cyber activity.',\n  'modified': '2018-01-08T16:37:34.456000',\n  'created': '2018-01-08T16:37:34.456000',\n  'tags': [],\n  'references': ['MAR-10135536-A_WHITE_stix.xml', 'TA-17-318A-IOCs.xml'],\n  'public': 1,\n  'adversary': 'HIDDEN COBRA',\n  'targeted_countries': [],\n  'malware_families': [],\n  'attack_ids': [],\n  'industries': [],\n  'TLP': 'white',\n  'cloned_from': None,\n  'export_count': 24,\n  'upvotes_count': 0,\n  'downvotes_count': 0,\n  'votes_count': 0,\n  'locked': False,\n  'pulse_source': 'web',\n  'validator_count': 0,\n  'comment_count': 0,\n  'follower_count': 0,\n  'vote': 0,\n  'author': {'username': 'Gargomel',\n   'id': '17466',\n   'avatar_url': 'https://otx.alienvault.com/assets/images/default-avatar.png',\n   'is_subscribed': False,\n   'is_following': False},\n  'indicator_type_counts': {'FileHash-SHA256': 2,\n   'FileHash-MD5': 2,\n   'FileHash-SHA1': 2,\n   'IPv4': 86},\n  'indicator_count': 92,\n  'is_author': False,\n  'is_subscribing': None,\n  'subscriber_count': 125,\n  'modified_text': '1533 days ago ',\n  'is_modified': False,\n  'groups': [],\n  'in_group': False,\n  'threat_hunter_scannable': True,\n  'threat_hunter_has_agents': 1,\n  'related_indicator_type': 'IPv4',\n  'related_indicator_is_active': 1},\n {'id': '5a0c5eb5fee07f451da21123',\n  'name': 'HIDDEN COBRA – North Korean Remote Administration Tool: FALLCHILL',\n  'description': 'https://www.us-cert.gov/ncas/alerts/TA17-318A',\n  'modified': '2017-12-09T20:12:15.856000',\n  'created': '2017-11-15T15:35:17.717000',\n  'tags': [],\n  'references': ['TA FALLCHILL IOCs.csv'],\n  'public': 1,\n  'adversary': '',\n  'targeted_countries': [],\n  'malware_families': [],\n  'attack_ids': [],\n  'industries': [],\n  'TLP': 'white',\n  'cloned_from': None,\n  'export_count': 16,\n  'upvotes_count': 0,\n  'downvotes_count': 0,\n  'votes_count': 0,\n  'locked': True,\n  'pulse_source': 'web',\n  'validator_count': 0,\n  'comment_count': 0,\n  'follower_count': 0,\n  'vote': 0,\n  'author': {'username': 'PolycomPSO',\n   'id': '14373',\n   'avatar_url': 'https://otx.alienvault.com/assets/images/default-avatar.png',\n   'is_subscribed': False,\n   'is_following': False},\n  'indicator_type_counts': {'FileHash-MD5': 2, 'IPv4': 86},\n  'indicator_count': 88,\n  'is_author': False,\n  'is_subscribing': None,\n  'subscriber_count': 40,\n  'modified_text': '1563 days ago ',\n  'is_modified': True,\n  'groups': [],\n  'in_group': False,\n  'threat_hunter_scannable': True,\n  'threat_hunter_has_agents': 1,\n  'related_indicator_type': 'IPv4',\n  'related_indicator_is_active': 1},\n {'id': '5a1f0a45ec507b53c218fcd9',\n  'name': 'A Deep Dive Analysis of the FALLCHILL Remote Administration Tool | Fortinet Blog',\n  'description': '',\n  'modified': '2017-11-29T19:28:05.360000',\n  'created': '2017-11-29T19:28:05.360000',\n  'tags': ['fallchill',\n   'fortiguard labs',\n   'c2 ip',\n   'hidden cobra',\n   'iocs',\n   'north korean',\n   'zlib',\n   'north korea',\n   'apis',\n   'sony',\n   'vietnam',\n   'us-cert',\n   'sign'],\n  'references': ['http://blog.fortinet.com/2017/11/28/a-deep-dive-analysis-of-the-fallchill-remote-administration-tool'],\n  'public': 1,\n  'adversary': 'Lazarus Group',\n  'targeted_countries': [],\n  'malware_families': [],\n  'attack_ids': [],\n  'industries': [],\n  'TLP': 'white',\n  'cloned_from': None,\n  'export_count': 12,\n  'upvotes_count': 0,\n  'downvotes_count': 0,\n  'votes_count': 0,\n  'locked': False,\n  'pulse_source': 'web',\n  'validator_count': 0,\n  'comment_count': 0,\n  'follower_count': 0,\n  'vote': 0,\n  'author': {'username': 'KonstantinJM',\n   'id': '17354',\n   'avatar_url': '/otxapi/users/avatar_image/media/avatars/user_17354/resized/80/avatar_99bf8521b6.png',\n   'is_subscribed': False,\n   'is_following': False},\n  'indicator_type_counts': {'FileHash-SHA256': 2, 'IPv4': 2},\n  'indicator_count': 4,\n  'is_author': False,\n  'is_subscribing': None,\n  'subscriber_count': 145,\n  'modified_text': '1573 days ago ',\n  'is_modified': False,\n  'groups': [],\n  'in_group': False,\n  'threat_hunter_scannable': True,\n  'threat_hunter_has_agents': 1,\n  'related_indicator_type': 'IPv4',\n  'related_indicator_is_active': 1},\n {'id': '5a159aaed519a216f6607e37',\n  'name': 'HIDDEN COBRA: FALLCHILL – Remote Administration Tool',\n  'description': 'HIDDEN COBRA: FALLCHILL – Remote Administration Tool',\n  'modified': '2017-11-22T15:41:34.091000',\n  'created': '2017-11-22T15:41:34.091000',\n  'tags': [],\n  'references': [],\n  'public': 1,\n  'adversary': '',\n  'targeted_countries': [],\n  'malware_families': [],\n  'attack_ids': [],\n  'industries': [],\n  'TLP': 'green',\n  'cloned_from': None,\n  'export_count': 20,\n  'upvotes_count': 0,\n  'downvotes_count': 0,\n  'votes_count': 0,\n  'locked': False,\n  'pulse_source': 'web',\n  'validator_count': 0,\n  'comment_count': 0,\n  'follower_count': 0,\n  'vote': 0,\n  'author': {'username': 'OTXjonah',\n   'id': '29998',\n   'avatar_url': '/otxapi/users/avatar_image/media/avatars/user_29998/resized/80/avatar_5467d94286.png',\n   'is_subscribed': False,\n   'is_following': False},\n  'indicator_type_counts': {'domain': 9,\n   'hostname': 19,\n   'FileHash-MD5': 3,\n   'IPv4': 86},\n  'indicator_count': 117,\n  'is_author': False,\n  'is_subscribing': None,\n  'subscriber_count': 245,\n  'modified_text': '1580 days ago ',\n  'is_modified': False,\n  'groups': [],\n  'in_group': False,\n  'threat_hunter_scannable': True,\n  'threat_hunter_has_agents': 1,\n  'related_indicator_type': 'IPv4',\n  'related_indicator_is_active': 1},\n {'id': '5a0c7211eaf3a73e667dc8e2',\n  'name': 'US-CERT Alert (TA17-318A): HIDDEN COBRA – North Korean Remote Administration Tool: FALLCHILL',\n  'description': 'his joint Technical Alert (TA) is the result of analytic efforts between the Department of Homeland Security (DHS) and the Federal Bureau of Investigation (FBI). Working with U.S. government partners, DHS and FBI identified Internet Protocol (IP) addresses and other indicators of compromise (IOCs) associated with a remote administration tool (RAT) used by the North Korean government—commonly known as FALLCHILL. The U.S. Government refers to malicious cyber activity by the North Korean government as HIDDEN COBRA. For more information on HIDDEN COBRA activity, visit https://www.us-cert.gov/hiddencobra.',\n  'modified': '2017-11-15T16:57:53.348000',\n  'created': '2017-11-15T16:57:53.348000',\n  'tags': [],\n  'references': [],\n  'public': 1,\n  'adversary': '',\n  'targeted_countries': [],\n  'malware_families': [],\n  'attack_ids': [],\n  'industries': [],\n  'TLP': 'white',\n  'cloned_from': None,\n  'export_count': 32,\n  'upvotes_count': 0,\n  'downvotes_count': 0,\n  'votes_count': 0,\n  'locked': False,\n  'pulse_source': 'web',\n  'validator_count': 0,\n  'comment_count': 0,\n  'follower_count': 0,\n  'vote': 0,\n  'author': {'username': 'OTXjonah',\n   'id': '29998',\n   'avatar_url': '/otxapi/users/avatar_image/media/avatars/user_29998/resized/80/avatar_5467d94286.png',\n   'is_subscribed': False,\n   'is_following': False},\n  'indicator_type_counts': {'FileHash-MD5': 2, 'IPv4': 86},\n  'indicator_count': 88,\n  'is_author': False,\n  'is_subscribing': None,\n  'subscriber_count': 251,\n  'modified_text': '1587 days ago ',\n  'is_modified': False,\n  'groups': [],\n  'in_group': False,\n  'threat_hunter_scannable': True,\n  'threat_hunter_has_agents': 1,\n  'related_indicator_type': 'IPv4',\n  'related_indicator_is_active': 1},\n {'id': '5a0c71945fe42a52b2031e7c',\n  'name': 'NCCIC/US-CERT: Malware Analysis Report (MAR) - 10135536-A',\n  'description': 'This report is provided &quot;as is&quot; for informational purposes only. The Department of Homeland Security (DHS) does not provide any warranties of any kind regarding any information contained within. The DHS does not endorse any commercial product or service, referenced in this bulletin or otherwise.',\n  'modified': '2017-11-15T16:55:48.858000',\n  'created': '2017-11-15T16:55:48.858000',\n  'tags': [],\n  'references': [],\n  'public': 1,\n  'adversary': '',\n  'targeted_countries': [],\n  'malware_families': [],\n  'attack_ids': [],\n  'industries': [],\n  'TLP': 'white',\n  'cloned_from': None,\n  'export_count': 13,\n  'upvotes_count': 0,\n  'downvotes_count': 0,\n  'votes_count': 0,\n  'locked': False,\n  'pulse_source': 'web',\n  'validator_count': 0,\n  'comment_count': 0,\n  'follower_count': 0,\n  'vote': 0,\n  'author': {'username': 'OTXjonah',\n   'id': '29998',\n   'avatar_url': '/otxapi/users/avatar_image/media/avatars/user_29998/resized/80/avatar_5467d94286.png',\n   'is_subscribed': False,\n   'is_following': False},\n  'indicator_type_counts': {'FileHash-MD5': 2, 'IPv4': 2},\n  'indicator_count': 4,\n  'is_author': False,\n  'is_subscribing': None,\n  'subscriber_count': 239,\n  'modified_text': '1587 days ago ',\n  'is_modified': False,\n  'groups': [],\n  'in_group': False,\n  'threat_hunter_scannable': True,\n  'threat_hunter_has_agents': 1,\n  'related_indicator_type': 'IPv4',\n  'related_indicator_is_active': 1},\n {'id': '5a0c65befd01126f5da56957',\n  'name': 'HIDDEN COBRA – North Korean Remote Administration Tool: FALLCHILL',\n  'description': '',\n  'modified': '2017-11-15T16:05:18.209000',\n  'created': '2017-11-15T16:05:18.209000',\n  'tags': ['department',\n   'disclosure',\n   'white',\n   'disclaimer',\n   'hidden cobra',\n   'argentina',\n   'china',\n   'destover',\n   'multiple',\n   'november',\n   'october',\n   'inc.',\n   'canada',\n   'iocs',\n   'sality',\n   'conficker',\n   'india',\n   'czech republic',\n   'sha256',\n   'html',\n   'july',\n   'sha1',\n   'vietnam',\n   'june',\n   'january',\n   'ssdeep',\n   'javascript',\n   'zimbabwe'],\n  'references': ['https://www.us-cert.gov/sites/default/files/publications/TA%20FALLCHILL%20IOCs.xml'],\n  'public': 1,\n  'adversary': '',\n  'targeted_countries': [],\n  'malware_families': [],\n  'attack_ids': [],\n  'industries': [],\n  'TLP': 'white',\n  'cloned_from': None,\n  'export_count': 26,\n  'upvotes_count': 0,\n  'downvotes_count': 0,\n  'votes_count': 0,\n  'locked': False,\n  'pulse_source': 'web',\n  'validator_count': 0,\n  'comment_count': 0,\n  'follower_count': 0,\n  'vote': 0,\n  'author': {'username': 'TVMSSP',\n   'id': '11822',\n   'avatar_url': '/otxapi/users/avatar_image/media/avatars/user_11822/resized/80/avatar_adca1aa1e3.png',\n   'is_subscribed': False,\n   'is_following': False},\n  'indicator_type_counts': {'domain': 12,\n   'FileHash-SHA256': 2,\n   'URL': 2,\n   'hostname': 25,\n   'FileHash-MD5': 3,\n   'FileHash-SHA1': 2,\n   'IPv4': 86},\n  'indicator_count': 132,\n  'is_author': False,\n  'is_subscribing': None,\n  'subscriber_count': 56,\n  'modified_text': '1587 days ago ',\n  'is_modified': False,\n  'groups': [],\n  'in_group': False,\n  'threat_hunter_scannable': True,\n  'threat_hunter_has_agents': 1,\n  'related_indicator_type': 'IPv4',\n  'related_indicator_is_active': 1},\n {'id': '5a0b907efee07f7518a21123',\n  'name': 'FallChill IOC',\n  'description': 'Hidden Cobra and Fall Chill IOC',\n  'modified': '2017-11-15T00:55:26.960000',\n  'created': '2017-11-15T00:55:26.960000',\n  'tags': [],\n  'references': ['TA FALLCHILL IOCs.csv',\n   'https://www.us-cert.gov/ncas/alerts/TA17-318A'],\n  'public': 1,\n  'adversary': '',\n  'targeted_countries': [],\n  'malware_families': [],\n  'attack_ids': [],\n  'industries': [],\n  'TLP': 'white',\n  'cloned_from': None,\n  'export_count': 25,\n  'upvotes_count': 0,\n  'downvotes_count': 0,\n  'votes_count': 0,\n  'locked': False,\n  'pulse_source': 'web',\n  'validator_count': 0,\n  'comment_count': 0,\n  'follower_count': 0,\n  'vote': 0,\n  'author': {'username': 'seaton@sentinel.com',\n   'id': '5254',\n   'avatar_url': 'https://otx.alienvault.com/assets/images/default-avatar.png',\n   'is_subscribed': False,\n   'is_following': False},\n  'indicator_type_counts': {'URL': 32,\n   'hostname': 30,\n   'IPv4': 88,\n   'domain': 19,\n   'FileHash-SHA256': 2,\n   'FileHash-MD5': 3,\n   'FileHash-SHA1': 2},\n  'indicator_count': 176,\n  'is_author': False,\n  'is_subscribing': None,\n  'subscriber_count': 69,\n  'modified_text': '1588 days ago ',\n  'is_modified': False,\n  'groups': [],\n  'in_group': False,\n  'threat_hunter_scannable': True,\n  'threat_hunter_has_agents': 1,\n  'related_indicator_type': 'IPv4',\n  'related_indicator_is_active': 1},\n {'id': '5a0b4ae6fd011279f6a56957',\n  'name': 'HIDDEN COBRA – North Korean Remote Administration Tool: FALLCHILL Original release date: November 14, 2017',\n  'description': 'This joint Technical Alert (TA) is the result of analytic efforts between the Department of Homeland Security (DHS) and the Federal Bureau of Investigation (FBI). Working with U.S. government partners, DHS and FBI identified Internet Protocol (IP) addresses and other indicators of compromise (IOCs) associated with a remote administration tool (RAT) used by the North Korean government—commonly known as FALLCHILL. The U.S. Government refers to malicious cyber activity by the North Korean government as HIDDEN COBRA. For more information on HIDDEN COBRA activity, visit https://www.us-cert.gov/hiddencobra.',\n  'modified': '2017-11-14T19:58:30.253000',\n  'created': '2017-11-14T19:58:30.253000',\n  'tags': [],\n  'references': ['sources.txt',\n   'https://www.us-cert.gov/ncas/alerts/TA17-318A'],\n  'public': 1,\n  'adversary': 'North Korea',\n  'targeted_countries': [],\n  'malware_families': [],\n  'attack_ids': [],\n  'industries': [],\n  'TLP': 'green',\n  'cloned_from': None,\n  'export_count': 22,\n  'upvotes_count': 0,\n  'downvotes_count': 0,\n  'votes_count': 0,\n  'locked': False,\n  'pulse_source': 'web',\n  'validator_count': 0,\n  'comment_count': 0,\n  'follower_count': 0,\n  'vote': 0,\n  'author': {'username': 'mpeter05',\n   'id': '23174',\n   'avatar_url': 'https://otx.alienvault.com/assets/images/default-avatar.png',\n   'is_subscribed': False,\n   'is_following': False},\n  'indicator_type_counts': {'FileHash-MD5': 2, 'IPv4': 86},\n  'indicator_count': 88,\n  'is_author': False,\n  'is_subscribing': None,\n  'subscriber_count': 203,\n  'modified_text': '1588 days ago ',\n  'is_modified': False,\n  'groups': [],\n  'in_group': False,\n  'threat_hunter_scannable': True,\n  'threat_hunter_has_agents': 1,\n  'related_indicator_type': 'IPv4',\n  'related_indicator_is_active': 1}]"
          },
          "metadata": {}
        }
      ],
      "execution_count": 12,
      "metadata": {
        "execution": {
          "iopub.status.busy": "2022-03-22T05:43:41.590Z",
          "iopub.execute_input": "2022-03-22T05:43:41.595Z",
          "iopub.status.idle": "2022-03-22T05:43:41.644Z",
          "shell.execute_reply": "2022-03-22T05:43:41.671Z"
        }
      }
    }
  ],
  "metadata": {
    "kernelspec": {
      "display_name": "Python 3",
      "language": "python",
      "name": "python3"
    },
    "language_info": {
      "name": "python",
      "version": "3.8.9",
      "mimetype": "text/x-python",
      "codemirror_mode": {
        "name": "ipython",
        "version": 3
      },
      "pygments_lexer": "ipython3",
      "nbconvert_exporter": "python",
      "file_extension": ".py"
    },
    "nteract": {
      "version": "0.28.0"
    }
  },
  "nbformat": 4,
  "nbformat_minor": 2
}