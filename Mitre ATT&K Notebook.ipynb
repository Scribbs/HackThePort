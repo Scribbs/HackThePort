{
 "cells": [
  {
   "cell_type": "code",
   "execution_count": 2,
   "metadata": {},
   "outputs": [],
   "source": [
    "from attackcti import attack_client\n",
    "import pandas as pd\n",
    "import altair as alt"
   ]
  },
  {
   "cell_type": "code",
   "execution_count": 3,
   "metadata": {},
   "outputs": [],
   "source": [
    "ac = attack_client()"
   ]
  },
  {
   "cell_type": "code",
   "execution_count": 4,
   "metadata": {},
   "outputs": [],
   "source": [
    "all_techniques = ac.get_techniques(stix_format=False)"
   ]
  },
  {
   "cell_type": "code",
   "execution_count": 5,
   "metadata": {},
   "outputs": [],
   "source": [
    "stix = ac.get_techniques(stix_format=True)"
   ]
  },
  {
   "cell_type": "code",
   "execution_count": 6,
   "metadata": {},
   "outputs": [
    {
     "data": {
      "text/plain": [
       "AttackPattern(type='attack-pattern', id='attack-pattern--b24e2a20-3b3d-4bf0-823b-1ed765398fb0', created_by_ref='identity--c78cb6e5-0c4b-4611-8297-d1b8b55e40b5', created='2019-10-09T18:48:31.906Z', modified='2019-10-14T23:29:24.908Z', name='Account Access Removal', description='Adversaries may interrupt availability of system and network resources by inhibiting access to accounts utilized by legitimate users. Accounts may be deleted, locked, or manipulated (ex: changed credentials) to remove access to accounts.\\n\\nAdversaries may also subsequently log off and/or reboot boxes to set malicious changes into place.(Citation: CarbonBlack LockerGoga 2019)(Citation: Unit42 LockerGoga 2019)', kill_chain_phases=[KillChainPhase(kill_chain_name='mitre-attack', phase_name='impact')], external_references=[ExternalReference(source_name='mitre-attack', url='https://attack.mitre.org/techniques/T1531', external_id='T1531'), ExternalReference(source_name='CarbonBlack LockerGoga 2019', description='CarbonBlack Threat Analysis Unit. (2019, March 22). TAU Threat Intelligence Notification – LockerGoga Ransomware. Retrieved April 16, 2019.', url='https://www.carbonblack.com/2019/03/22/tau-threat-intelligence-notification-lockergoga-ransomware/'), ExternalReference(source_name='Unit42 LockerGoga 2019', description='Harbison, M.. (2019, March 26). Born This Way? Origins of LockerGoga. Retrieved April 16, 2019.', url='https://unit42.paloaltonetworks.com/born-this-way-origins-of-lockergoga/')], object_marking_refs=['marking-definition--fa42a846-8d90-4e51-bc29-71d5b4802168'], x_mitre_data_sources=['Windows event logs', 'Process command-line parameters', 'Process monitoring'], x_mitre_detection=\"Use process monitoring to monitor the execution and command line parameters of binaries involved in deleting accounts or changing passwords, such as use of [Net](https://attack.mitre.org/software/S0039). Windows event logs may also designate activity associated with an adversary's attempt to remove access to an account:\\n\\n* Event ID 4723 - An attempt was made to change an account's password\\n* Event ID 4724 - An attempt was made to reset an account's password\\n* Event ID 4726 - A user account was deleted\\n* Event ID 4740 - A user account was locked out\\n\\nAlerting on [Net](https://attack.mitre.org/software/S0039) and these Event IDs may generate a high degree of false positives, so compare against baseline knowledge for how systems are typically used and correlate modification events with other indications of malicious activity where possible.\", x_mitre_impact_type=['Availability'], x_mitre_permissions_required=['User', 'Administrator', 'root', 'SYSTEM'], x_mitre_platforms=['Linux', 'macOS', 'Windows'], x_mitre_version='1.0')"
      ]
     },
     "execution_count": 6,
     "metadata": {},
     "output_type": "execute_result"
    }
   ],
   "source": [
    "stix[0]"
   ]
  },
  {
   "cell_type": "code",
   "execution_count": 9,
   "metadata": {},
   "outputs": [
    {
     "data": {
      "text/plain": [
       "{'kill_chain_phases': [{'kill_chain_name': 'mitre-attack',\n",
       "   'phase_name': 'impact'}],\n",
       " 'external_references': [{'external_id': 'T1531',\n",
       "   'source_name': 'mitre-attack',\n",
       "   'url': 'https://attack.mitre.org/techniques/T1531'},\n",
       "  {'source_name': 'CarbonBlack LockerGoga 2019',\n",
       "   'description': 'CarbonBlack Threat Analysis Unit. (2019, March 22). TAU Threat Intelligence Notification – LockerGoga Ransomware. Retrieved April 16, 2019.',\n",
       "   'url': 'https://www.carbonblack.com/2019/03/22/tau-threat-intelligence-notification-lockergoga-ransomware/'},\n",
       "  {'description': 'Harbison, M.. (2019, March 26). Born This Way? Origins of LockerGoga. Retrieved April 16, 2019.',\n",
       "   'source_name': 'Unit42 LockerGoga 2019',\n",
       "   'url': 'https://unit42.paloaltonetworks.com/born-this-way-origins-of-lockergoga/'}],\n",
       " 'x_mitre_version': '1.0',\n",
       " 'technique': 'Account Access Removal',\n",
       " 'technique_description': 'Adversaries may interrupt availability of system and network resources by inhibiting access to accounts utilized by legitimate users. Accounts may be deleted, locked, or manipulated (ex: changed credentials) to remove access to accounts.\\n\\nAdversaries may also subsequently log off and/or reboot boxes to set malicious changes into place.(Citation: CarbonBlack LockerGoga 2019)(Citation: Unit42 LockerGoga 2019)',\n",
       " 'id': 'attack-pattern--b24e2a20-3b3d-4bf0-823b-1ed765398fb0',\n",
       " 'object_marking_refs': ['marking-definition--fa42a846-8d90-4e51-bc29-71d5b4802168'],\n",
       " 'type': 'attack-pattern',\n",
       " 'created_by_ref': 'identity--c78cb6e5-0c4b-4611-8297-d1b8b55e40b5',\n",
       " 'created': '2019-10-09T18:48:31.906Z',\n",
       " 'tactic': ['impact'],\n",
       " 'url': 'https://attack.mitre.org/techniques/T1531',\n",
       " 'matrix': 'mitre-attack',\n",
       " 'technique_id': 'T1531',\n",
       " 'modified': '2019-10-14T23:29:24.908Z',\n",
       " 'data_sources': ['Windows event logs',\n",
       "  'Process command-line parameters',\n",
       "  'Process monitoring'],\n",
       " 'permissions_required': ['User', 'Administrator', 'root', 'SYSTEM'],\n",
       " 'platform': ['Linux', 'macOS', 'Windows'],\n",
       " 'impact_type': ['Availability'],\n",
       " 'technique_detection': \"Use process monitoring to monitor the execution and command line parameters of binaries involved in deleting accounts or changing passwords, such as use of [Net](https://attack.mitre.org/software/S0039). Windows event logs may also designate activity associated with an adversary's attempt to remove access to an account:\\n\\n* Event ID 4723 - An attempt was made to change an account's password\\n* Event ID 4724 - An attempt was made to reset an account's password\\n* Event ID 4726 - A user account was deleted\\n* Event ID 4740 - A user account was locked out\\n\\nAlerting on [Net](https://attack.mitre.org/software/S0039) and these Event IDs may generate a high degree of false positives, so compare against baseline knowledge for how systems are typically used and correlate modification events with other indications of malicious activity where possible.\"}"
      ]
     },
     "execution_count": 9,
     "metadata": {},
     "output_type": "execute_result"
    }
   ],
   "source": [
    "all_techniques[0]"
   ]
  },
  {
   "cell_type": "code",
   "execution_count": 7,
   "metadata": {},
   "outputs": [],
   "source": [
    "techniques_normalized = pd.json_normalize(all_techniques).fillna('None')"
   ]
  },
  {
   "cell_type": "code",
   "execution_count": 8,
   "metadata": {},
   "outputs": [
    {
     "data": {
      "text/html": [
       "<div>\n",
       "<style scoped>\n",
       "    .dataframe tbody tr th:only-of-type {\n",
       "        vertical-align: middle;\n",
       "    }\n",
       "\n",
       "    .dataframe tbody tr th {\n",
       "        vertical-align: top;\n",
       "    }\n",
       "\n",
       "    .dataframe thead th {\n",
       "        text-align: right;\n",
       "    }\n",
       "</style>\n",
       "<table border=\"1\" class=\"dataframe\">\n",
       "  <thead>\n",
       "    <tr style=\"text-align: right;\">\n",
       "      <th></th>\n",
       "      <th>kill_chain_phases</th>\n",
       "      <th>external_references</th>\n",
       "      <th>x_mitre_version</th>\n",
       "      <th>technique</th>\n",
       "      <th>technique_description</th>\n",
       "      <th>id</th>\n",
       "      <th>object_marking_refs</th>\n",
       "      <th>type</th>\n",
       "      <th>created_by_ref</th>\n",
       "      <th>created</th>\n",
       "      <th>...</th>\n",
       "      <th>capec_url</th>\n",
       "      <th>remote_support</th>\n",
       "      <th>x_mitre_old_attack_id</th>\n",
       "      <th>detectable_explanation</th>\n",
       "      <th>difficulty_for_adversary</th>\n",
       "      <th>difficulty_explanation</th>\n",
       "      <th>detectable_by_common_defenses</th>\n",
       "      <th>x_mitre_deprecated</th>\n",
       "      <th>tactic_type</th>\n",
       "      <th>revoked</th>\n",
       "    </tr>\n",
       "  </thead>\n",
       "  <tbody>\n",
       "    <tr>\n",
       "      <th>0</th>\n",
       "      <td>[{'kill_chain_name': 'mitre-attack', 'phase_na...</td>\n",
       "      <td>[{'external_id': 'T1531', 'source_name': 'mitr...</td>\n",
       "      <td>1.0</td>\n",
       "      <td>Account Access Removal</td>\n",
       "      <td>Adversaries may interrupt availability of syst...</td>\n",
       "      <td>attack-pattern--b24e2a20-3b3d-4bf0-823b-1ed765...</td>\n",
       "      <td>[marking-definition--fa42a846-8d90-4e51-bc29-7...</td>\n",
       "      <td>attack-pattern</td>\n",
       "      <td>identity--c78cb6e5-0c4b-4611-8297-d1b8b55e40b5</td>\n",
       "      <td>2019-10-09T18:48:31.906Z</td>\n",
       "      <td>...</td>\n",
       "      <td>None</td>\n",
       "      <td>None</td>\n",
       "      <td>None</td>\n",
       "      <td>None</td>\n",
       "      <td>None</td>\n",
       "      <td>None</td>\n",
       "      <td>None</td>\n",
       "      <td>None</td>\n",
       "      <td>None</td>\n",
       "      <td>None</td>\n",
       "    </tr>\n",
       "  </tbody>\n",
       "</table>\n",
       "<p>1 rows × 36 columns</p>\n",
       "</div>"
      ],
      "text/plain": [
       "                                   kill_chain_phases  \\\n",
       "0  [{'kill_chain_name': 'mitre-attack', 'phase_na...   \n",
       "\n",
       "                                 external_references x_mitre_version  \\\n",
       "0  [{'external_id': 'T1531', 'source_name': 'mitr...             1.0   \n",
       "\n",
       "                technique                              technique_description  \\\n",
       "0  Account Access Removal  Adversaries may interrupt availability of syst...   \n",
       "\n",
       "                                                  id  \\\n",
       "0  attack-pattern--b24e2a20-3b3d-4bf0-823b-1ed765...   \n",
       "\n",
       "                                 object_marking_refs            type  \\\n",
       "0  [marking-definition--fa42a846-8d90-4e51-bc29-7...  attack-pattern   \n",
       "\n",
       "                                   created_by_ref                   created  \\\n",
       "0  identity--c78cb6e5-0c4b-4611-8297-d1b8b55e40b5  2019-10-09T18:48:31.906Z   \n",
       "\n",
       "   ... capec_url remote_support x_mitre_old_attack_id detectable_explanation  \\\n",
       "0  ...      None           None                  None                   None   \n",
       "\n",
       "  difficulty_for_adversary difficulty_explanation  \\\n",
       "0                     None                   None   \n",
       "\n",
       "  detectable_by_common_defenses x_mitre_deprecated tactic_type revoked  \n",
       "0                          None               None        None    None  \n",
       "\n",
       "[1 rows x 36 columns]"
      ]
     },
     "execution_count": 8,
     "metadata": {},
     "output_type": "execute_result"
    }
   ],
   "source": [
    "techniques_normalized[0:1]"
   ]
  },
  {
   "cell_type": "code",
   "execution_count": 9,
   "metadata": {},
   "outputs": [],
   "source": [
    "techniques = techniques_normalized.reindex(['matrix','platform','tactic','technique','technique_id','data_sources','technique_description'], axis=1)"
   ]
  },
  {
   "cell_type": "code",
   "execution_count": 10,
   "metadata": {},
   "outputs": [
    {
     "data": {
      "text/html": [
       "<div>\n",
       "<style scoped>\n",
       "    .dataframe tbody tr th:only-of-type {\n",
       "        vertical-align: middle;\n",
       "    }\n",
       "\n",
       "    .dataframe tbody tr th {\n",
       "        vertical-align: top;\n",
       "    }\n",
       "\n",
       "    .dataframe thead th {\n",
       "        text-align: right;\n",
       "    }\n",
       "</style>\n",
       "<table border=\"1\" class=\"dataframe\">\n",
       "  <thead>\n",
       "    <tr style=\"text-align: right;\">\n",
       "      <th></th>\n",
       "      <th>matrix</th>\n",
       "      <th>platform</th>\n",
       "      <th>tactic</th>\n",
       "      <th>technique</th>\n",
       "      <th>technique_id</th>\n",
       "      <th>data_sources</th>\n",
       "      <th>technique_description</th>\n",
       "    </tr>\n",
       "  </thead>\n",
       "  <tbody>\n",
       "    <tr>\n",
       "      <th>0</th>\n",
       "      <td>mitre-attack</td>\n",
       "      <td>[Linux, macOS, Windows]</td>\n",
       "      <td>[impact]</td>\n",
       "      <td>Account Access Removal</td>\n",
       "      <td>T1531</td>\n",
       "      <td>[Windows event logs, Process command-line para...</td>\n",
       "      <td>Adversaries may interrupt availability of syst...</td>\n",
       "    </tr>\n",
       "    <tr>\n",
       "      <th>1</th>\n",
       "      <td>mitre-attack</td>\n",
       "      <td>[Office 365, SaaS]</td>\n",
       "      <td>[defense-evasion, lateral-movement]</td>\n",
       "      <td>Web Session Cookie</td>\n",
       "      <td>T1506</td>\n",
       "      <td>[Authentication logs, Office 365 account logs]</td>\n",
       "      <td>Adversaries can use stolen session cookies to ...</td>\n",
       "    </tr>\n",
       "    <tr>\n",
       "      <th>2</th>\n",
       "      <td>mitre-attack</td>\n",
       "      <td>[Linux, macOS, Windows, Office 365, SaaS]</td>\n",
       "      <td>[credential-access]</td>\n",
       "      <td>Steal Web Session Cookie</td>\n",
       "      <td>T1539</td>\n",
       "      <td>[File monitoring, API monitoring]</td>\n",
       "      <td>An adversary may steal web application or serv...</td>\n",
       "    </tr>\n",
       "    <tr>\n",
       "      <th>3</th>\n",
       "      <td>mitre-attack</td>\n",
       "      <td>[Linux, macOS, Windows]</td>\n",
       "      <td>[impact]</td>\n",
       "      <td>System Shutdown/Reboot</td>\n",
       "      <td>T1529</td>\n",
       "      <td>[Windows event logs, Process command-line para...</td>\n",
       "      <td>Adversaries may shutdown/reboot systems to int...</td>\n",
       "    </tr>\n",
       "    <tr>\n",
       "      <th>4</th>\n",
       "      <td>mitre-attack</td>\n",
       "      <td>[macOS]</td>\n",
       "      <td>[persistence, privilege-escalation]</td>\n",
       "      <td>Emond</td>\n",
       "      <td>T1519</td>\n",
       "      <td>[File monitoring, API monitoring]</td>\n",
       "      <td>Adversaries may use Event Monitor Daemon (emon...</td>\n",
       "    </tr>\n",
       "    <tr>\n",
       "      <th>...</th>\n",
       "      <td>...</td>\n",
       "      <td>...</td>\n",
       "      <td>...</td>\n",
       "      <td>...</td>\n",
       "      <td>...</td>\n",
       "      <td>...</td>\n",
       "      <td>...</td>\n",
       "    </tr>\n",
       "    <tr>\n",
       "      <th>530</th>\n",
       "      <td>mitre-mobile-attack</td>\n",
       "      <td>[Android, iOS]</td>\n",
       "      <td>[impact]</td>\n",
       "      <td>Manipulate App Store Rankings or Ratings</td>\n",
       "      <td>T1452</td>\n",
       "      <td>None</td>\n",
       "      <td>An adversary could use access to a compromised...</td>\n",
       "    </tr>\n",
       "    <tr>\n",
       "      <th>531</th>\n",
       "      <td>mitre-mobile-attack</td>\n",
       "      <td>None</td>\n",
       "      <td>None</td>\n",
       "      <td>Exploit Baseband Vulnerability</td>\n",
       "      <td>T1455</td>\n",
       "      <td>None</td>\n",
       "      <td>None</td>\n",
       "    </tr>\n",
       "    <tr>\n",
       "      <th>532</th>\n",
       "      <td>mitre-mobile-attack</td>\n",
       "      <td>[Android, iOS]</td>\n",
       "      <td>[initial-access]</td>\n",
       "      <td>Drive-by Compromise</td>\n",
       "      <td>T1456</td>\n",
       "      <td>None</td>\n",
       "      <td>As described by [Drive-by Compromise](https://...</td>\n",
       "    </tr>\n",
       "    <tr>\n",
       "      <th>533</th>\n",
       "      <td>mitre-mobile-attack</td>\n",
       "      <td>[Android, iOS]</td>\n",
       "      <td>[network-effects]</td>\n",
       "      <td>Exploit SS7 to Redirect Phone Calls/SMS</td>\n",
       "      <td>T1449</td>\n",
       "      <td>None</td>\n",
       "      <td>An adversary could exploit signaling system vu...</td>\n",
       "    </tr>\n",
       "    <tr>\n",
       "      <th>534</th>\n",
       "      <td>mitre-mobile-attack</td>\n",
       "      <td>None</td>\n",
       "      <td>None</td>\n",
       "      <td>Stolen Developer Credentials or Signing Keys</td>\n",
       "      <td>T1441</td>\n",
       "      <td>None</td>\n",
       "      <td>None</td>\n",
       "    </tr>\n",
       "  </tbody>\n",
       "</table>\n",
       "<p>535 rows × 7 columns</p>\n",
       "</div>"
      ],
      "text/plain": [
       "                  matrix                                   platform  \\\n",
       "0           mitre-attack                    [Linux, macOS, Windows]   \n",
       "1           mitre-attack                         [Office 365, SaaS]   \n",
       "2           mitre-attack  [Linux, macOS, Windows, Office 365, SaaS]   \n",
       "3           mitre-attack                    [Linux, macOS, Windows]   \n",
       "4           mitre-attack                                    [macOS]   \n",
       "..                   ...                                        ...   \n",
       "530  mitre-mobile-attack                             [Android, iOS]   \n",
       "531  mitre-mobile-attack                                       None   \n",
       "532  mitre-mobile-attack                             [Android, iOS]   \n",
       "533  mitre-mobile-attack                             [Android, iOS]   \n",
       "534  mitre-mobile-attack                                       None   \n",
       "\n",
       "                                  tactic  \\\n",
       "0                               [impact]   \n",
       "1    [defense-evasion, lateral-movement]   \n",
       "2                    [credential-access]   \n",
       "3                               [impact]   \n",
       "4    [persistence, privilege-escalation]   \n",
       "..                                   ...   \n",
       "530                             [impact]   \n",
       "531                                 None   \n",
       "532                     [initial-access]   \n",
       "533                    [network-effects]   \n",
       "534                                 None   \n",
       "\n",
       "                                        technique technique_id  \\\n",
       "0                          Account Access Removal        T1531   \n",
       "1                              Web Session Cookie        T1506   \n",
       "2                        Steal Web Session Cookie        T1539   \n",
       "3                          System Shutdown/Reboot        T1529   \n",
       "4                                           Emond        T1519   \n",
       "..                                            ...          ...   \n",
       "530      Manipulate App Store Rankings or Ratings        T1452   \n",
       "531                Exploit Baseband Vulnerability        T1455   \n",
       "532                           Drive-by Compromise        T1456   \n",
       "533       Exploit SS7 to Redirect Phone Calls/SMS        T1449   \n",
       "534  Stolen Developer Credentials or Signing Keys        T1441   \n",
       "\n",
       "                                          data_sources  \\\n",
       "0    [Windows event logs, Process command-line para...   \n",
       "1       [Authentication logs, Office 365 account logs]   \n",
       "2                    [File monitoring, API monitoring]   \n",
       "3    [Windows event logs, Process command-line para...   \n",
       "4                    [File monitoring, API monitoring]   \n",
       "..                                                 ...   \n",
       "530                                               None   \n",
       "531                                               None   \n",
       "532                                               None   \n",
       "533                                               None   \n",
       "534                                               None   \n",
       "\n",
       "                                 technique_description  \n",
       "0    Adversaries may interrupt availability of syst...  \n",
       "1    Adversaries can use stolen session cookies to ...  \n",
       "2    An adversary may steal web application or serv...  \n",
       "3    Adversaries may shutdown/reboot systems to int...  \n",
       "4    Adversaries may use Event Monitor Daemon (emon...  \n",
       "..                                                 ...  \n",
       "530  An adversary could use access to a compromised...  \n",
       "531                                               None  \n",
       "532  As described by [Drive-by Compromise](https://...  \n",
       "533  An adversary could exploit signaling system vu...  \n",
       "534                                               None  \n",
       "\n",
       "[535 rows x 7 columns]"
      ]
     },
     "execution_count": 10,
     "metadata": {},
     "output_type": "execute_result"
    }
   ],
   "source": [
    "techniques"
   ]
  },
  {
   "cell_type": "code",
   "execution_count": 11,
   "metadata": {},
   "outputs": [
    {
     "data": {
      "text/plain": [
       "mitre-attack           266\n",
       "mitre-pre-attack       174\n",
       "mitre-mobile-attack     95\n",
       "Name: matrix, dtype: int64"
      ]
     },
     "execution_count": 11,
     "metadata": {},
     "output_type": "execute_result"
    }
   ],
   "source": [
    "techniques.matrix.value_counts()"
   ]
  },
  {
   "cell_type": "code",
   "execution_count": 14,
   "metadata": {},
   "outputs": [
    {
     "name": "stdout",
     "output_type": "stream",
     "text": [
      "Which Operating System are you looking for? \n",
      "Which Tactic are you looking for? \n"
     ]
    }
   ],
   "source": [
    "def attack_lookup(OS=input(\"Which Operating System are you looking for? \"),tact=input(\"Which Tactic are you looking for? \")):\n",
    "    OS = input(\"Which Operating System are you looking for? \")\n",
    "    tact = input(\"Which Tactic are you looking for? \")\n",
    "\n",
    "    for i in range(0,len(techniques)):\n",
    "        if OS in techniques.platform[i]:\n",
    "            techniq = techniques.technique[i]\n",
    "            tactics = techniques.tactic[i]\n",
    "            descript = techniques.technique_description[i]\n",
    "            if tact in tactics:\n",
    "                print(techniq + \" exploit to execute the follwing tactics \" + str(tactics))  "
   ]
  },
  {
   "cell_type": "code",
   "execution_count": 15,
   "metadata": {},
   "outputs": [
    {
     "name": "stdout",
     "output_type": "stream",
     "text": [
      "Which Operating System are you looking for? Android\n",
      "Which Tactic are you looking for? impact\n",
      "Input Injection exploit to execute the follwing tactics ['defense-evasion', 'impact']\n",
      "Clipboard Modification exploit to execute the follwing tactics ['impact']\n",
      "Delete Device Data exploit to execute the follwing tactics ['impact']\n",
      "Modify System Partition exploit to execute the follwing tactics ['defense-evasion', 'persistence', 'impact']\n",
      "Generate Fraudulent Advertising Revenue exploit to execute the follwing tactics ['impact']\n",
      "Device Lockout exploit to execute the follwing tactics ['impact', 'defense-evasion']\n",
      "Data Encrypted for Impact exploit to execute the follwing tactics ['impact']\n",
      "Premium SMS Toll Fraud exploit to execute the follwing tactics ['impact']\n",
      "Abuse Accessibility Features exploit to execute the follwing tactics ['collection', 'credential-access', 'impact', 'defense-evasion']\n",
      "Manipulate App Store Rankings or Ratings exploit to execute the follwing tactics ['impact']\n"
     ]
    }
   ],
   "source": [
    "attack_lookup()"
   ]
  },
  {
   "cell_type": "code",
   "execution_count": 16,
   "metadata": {},
   "outputs": [
    {
     "data": {
      "text/html": [
       "<div>\n",
       "<style scoped>\n",
       "    .dataframe tbody tr th:only-of-type {\n",
       "        vertical-align: middle;\n",
       "    }\n",
       "\n",
       "    .dataframe tbody tr th {\n",
       "        vertical-align: top;\n",
       "    }\n",
       "\n",
       "    .dataframe thead th {\n",
       "        text-align: right;\n",
       "    }\n",
       "</style>\n",
       "<table border=\"1\" class=\"dataframe\">\n",
       "  <thead>\n",
       "    <tr style=\"text-align: right;\">\n",
       "      <th></th>\n",
       "      <th>matrix</th>\n",
       "      <th>technique</th>\n",
       "    </tr>\n",
       "  </thead>\n",
       "  <tbody>\n",
       "    <tr>\n",
       "      <th>0</th>\n",
       "      <td>mitre-attack</td>\n",
       "      <td>266</td>\n",
       "    </tr>\n",
       "    <tr>\n",
       "      <th>1</th>\n",
       "      <td>mitre-mobile-attack</td>\n",
       "      <td>95</td>\n",
       "    </tr>\n",
       "    <tr>\n",
       "      <th>2</th>\n",
       "      <td>mitre-pre-attack</td>\n",
       "      <td>174</td>\n",
       "    </tr>\n",
       "  </tbody>\n",
       "</table>\n",
       "</div>"
      ],
      "text/plain": [
       "                matrix  technique\n",
       "0         mitre-attack        266\n",
       "1  mitre-mobile-attack         95\n",
       "2     mitre-pre-attack        174"
      ]
     },
     "execution_count": 16,
     "metadata": {},
     "output_type": "execute_result"
    }
   ],
   "source": [
    "data = techniques\n",
    "data_2 = data.groupby(['matrix'])['technique'].count()\n",
    "data_3 = data_2.to_frame().reset_index()\n",
    "data_3"
   ]
  },
  {
   "cell_type": "code",
   "execution_count": 29,
   "metadata": {},
   "outputs": [
    {
     "data": {
      "text/plain": [
       "matrix\n",
       "mitre-attack           266\n",
       "mitre-mobile-attack     95\n",
       "mitre-pre-attack       174\n",
       "Name: technique, dtype: int64"
      ]
     },
     "execution_count": 29,
     "metadata": {},
     "output_type": "execute_result"
    }
   ],
   "source": [
    "data_2"
   ]
  },
  {
   "cell_type": "code",
   "execution_count": 31,
   "metadata": {},
   "outputs": [
    {
     "data": {
      "text/html": [
       "\n",
       "<div id=\"altair-viz-094fa58dfd184b92985243f295e80d65\"></div>\n",
       "<script type=\"text/javascript\">\n",
       "  (function(spec, embedOpt){\n",
       "    let outputDiv = document.currentScript.previousElementSibling;\n",
       "    if (outputDiv.id !== \"altair-viz-094fa58dfd184b92985243f295e80d65\") {\n",
       "      outputDiv = document.getElementById(\"altair-viz-094fa58dfd184b92985243f295e80d65\");\n",
       "    }\n",
       "    const paths = {\n",
       "      \"vega\": \"https://cdn.jsdelivr.net/npm//vega@5?noext\",\n",
       "      \"vega-lib\": \"https://cdn.jsdelivr.net/npm//vega-lib?noext\",\n",
       "      \"vega-lite\": \"https://cdn.jsdelivr.net/npm//vega-lite@4.0.0?noext\",\n",
       "      \"vega-embed\": \"https://cdn.jsdelivr.net/npm//vega-embed@6?noext\",\n",
       "    };\n",
       "\n",
       "    function loadScript(lib) {\n",
       "      return new Promise(function(resolve, reject) {\n",
       "        var s = document.createElement('script');\n",
       "        s.src = paths[lib];\n",
       "        s.async = true;\n",
       "        s.onload = () => resolve(paths[lib]);\n",
       "        s.onerror = () => reject(`Error loading script: ${paths[lib]}`);\n",
       "        document.getElementsByTagName(\"head\")[0].appendChild(s);\n",
       "      });\n",
       "    }\n",
       "\n",
       "    function showError(err) {\n",
       "      outputDiv.innerHTML = `<div class=\"error\" style=\"color:red;\">${err}</div>`;\n",
       "      throw err;\n",
       "    }\n",
       "\n",
       "    function displayChart(vegaEmbed) {\n",
       "      vegaEmbed(outputDiv, spec, embedOpt)\n",
       "        .catch(err => showError(`Javascript Error: ${err.message}<br>This usually means there's a typo in your chart specification. See the javascript console for the full traceback.`));\n",
       "    }\n",
       "\n",
       "    if(typeof define === \"function\" && define.amd) {\n",
       "      requirejs.config({paths});\n",
       "      require([\"vega-embed\"], displayChart, err => showError(`Error loading script: ${err.message}`));\n",
       "    } else if (typeof vegaEmbed === \"function\") {\n",
       "      displayChart(vegaEmbed);\n",
       "    } else {\n",
       "      loadScript(\"vega\")\n",
       "        .then(() => loadScript(\"vega-lite\"))\n",
       "        .then(() => loadScript(\"vega-embed\"))\n",
       "        .catch(showError)\n",
       "        .then(() => displayChart(vegaEmbed));\n",
       "    }\n",
       "  })({\"config\": {\"view\": {\"continuousWidth\": 400, \"continuousHeight\": 300}}, \"data\": {\"name\": \"data-df4595bdcb80106c8642ed099f719877\"}, \"mark\": \"bar\", \"encoding\": {\"color\": {\"type\": \"nominal\", \"field\": \"matrix\"}, \"x\": {\"type\": \"quantitative\", \"field\": \"technique\"}, \"y\": {\"type\": \"nominal\", \"field\": \"matrix\"}}, \"height\": 200, \"$schema\": \"https://vega.github.io/schema/vega-lite/v4.0.0.json\", \"datasets\": {\"data-df4595bdcb80106c8642ed099f719877\": [{\"matrix\": \"mitre-attack\", \"technique\": 266}, {\"matrix\": \"mitre-mobile-attack\", \"technique\": 95}, {\"matrix\": \"mitre-pre-attack\", \"technique\": 174}]}}, {\"mode\": \"vega-lite\"});\n",
       "</script>"
      ],
      "text/plain": [
       "alt.Chart(...)"
      ]
     },
     "execution_count": 31,
     "metadata": {},
     "output_type": "execute_result"
    }
   ],
   "source": [
    "alt.Chart(data_3).mark_bar().encode(x='technique', y='matrix', color='matrix').properties(height = 200)"
   ]
  },
  {
   "cell_type": "code",
   "execution_count": null,
   "metadata": {},
   "outputs": [],
   "source": []
  }
 ],
 "metadata": {
  "kernelspec": {
   "display_name": "Python 3",
   "language": "python",
   "name": "python3"
  },
  "language_info": {
   "codemirror_mode": {
    "name": "ipython",
    "version": 3
   },
   "file_extension": ".py",
   "mimetype": "text/x-python",
   "name": "python",
   "nbconvert_exporter": "python",
   "pygments_lexer": "ipython3",
   "version": "3.7.4"
  }
 },
 "nbformat": 4,
 "nbformat_minor": 2
}
