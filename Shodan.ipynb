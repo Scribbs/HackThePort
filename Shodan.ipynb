{
 "cells": [
  {
   "cell_type": "code",
   "execution_count": 1,
   "metadata": {},
   "outputs": [],
   "source": [
    "from shodan import Shodan as shd\n",
    "import pandas as pd\n",
    "import json\n",
    "\n",
    "Shodan_api = shd('7KlI1NbyrmbzcllM726x8zBJHtfs4fj5')"
   ]
  },
  {
   "cell_type": "code",
   "execution_count": 3,
   "metadata": {},
   "outputs": [
    {
     "name": "stdout",
     "output_type": "stream",
     "text": [
      "Industrial Control Systems: 90993\n"
     ]
    }
   ],
   "source": [
    "try:\n",
    "    ics_services = Shodan_api.count('tag:ics')\n",
    "    print('Industrial Control Systems: {}'.format(ics_services['total']))\n",
    "\n",
    "except shodan.APIError:\n",
    "    print('Error: {}'.format(e))"
   ]
  },
  {
   "cell_type": "code",
   "execution_count": 4,
   "metadata": {},
   "outputs": [
    {
     "name": "stdout",
     "output_type": "stream",
     "text": [
      "{'matches': [], 'total': 1183}\n"
     ]
    }
   ],
   "source": [
    "results = Shodan_api.count('unlead')\n",
    "print(results)"
   ]
  },
  {
   "cell_type": "code",
   "execution_count": 5,
   "metadata": {},
   "outputs": [
    {
     "data": {
      "text/plain": [
       "{'region_code': 'OK',\n",
       " 'tags': ['ics'],\n",
       " 'ip': 207328050,\n",
       " 'area_code': None,\n",
       " 'domains': [],\n",
       " 'hostnames': [],\n",
       " 'postal_code': None,\n",
       " 'dma_code': 612,\n",
       " 'country_code': 'US',\n",
       " 'org': 'AT&T Services',\n",
       " 'data': [{'hash': -532274702,\n",
       "   'ip': 207328050,\n",
       "   'isp': 'AT&T Services',\n",
       "   'transport': 'tcp',\n",
       "   'data': 'RTSP/1.0 404 Not Found\\r\\nCSeq: 1\\r\\n\\r\\n',\n",
       "   'asn': 'AS7018',\n",
       "   'port': 554,\n",
       "   'hostnames': [],\n",
       "   'location': {'city': 'Idabel',\n",
       "    'region_code': 'OK',\n",
       "    'area_code': None,\n",
       "    'longitude': -94.795,\n",
       "    'country_code3': None,\n",
       "    'latitude': 33.8848,\n",
       "    'postal_code': None,\n",
       "    'dma_code': 612,\n",
       "    'country_code': 'US',\n",
       "    'country_name': 'United States'},\n",
       "   'timestamp': '2020-11-07T04:26:07.369539',\n",
       "   'domains': [],\n",
       "   'org': 'AT&T Services',\n",
       "   'os': None,\n",
       "   '_shodan': {'crawler': '4f9b846181c7a8a68bcc980ab6b9f2b340ab5fb2',\n",
       "    'ptr': True,\n",
       "    'id': 'a399a855-7134-4033-b04d-d059e7ac8628',\n",
       "    'module': 'rtsp-tcp',\n",
       "    'options': {}},\n",
       "   'opts': {},\n",
       "   'ip_str': '12.91.147.50'},\n",
       "  {'hostnames': [],\n",
       "   'hash': -253498760,\n",
       "   'ip': 207328050,\n",
       "   'isp': 'AT&T Services',\n",
       "   'transport': 'tcp',\n",
       "   'data': 'HTTP/1.0 500 Internal Server Error\\r\\nSERVER: Linux/3.10.0_hi3536, UPnP/1.0, Portable SDK for UPnP devices/1.6.18\\r\\nCONNECTION: close\\r\\nCONTENT-LENGTH: 60\\r\\nCONTENT-TYPE: text/html\\r\\n\\r\\n',\n",
       "   'asn': 'AS7018',\n",
       "   'port': 49152,\n",
       "   'html': '<html><body><h1>500 Internal Server Error</h1></body></html>',\n",
       "   'location': {'city': 'Idabel',\n",
       "    'region_code': 'OK',\n",
       "    'area_code': None,\n",
       "    'longitude': -94.795,\n",
       "    'country_code3': None,\n",
       "    'latitude': 33.8848,\n",
       "    'postal_code': None,\n",
       "    'dma_code': 612,\n",
       "    'country_code': 'US',\n",
       "    'country_name': 'United States'},\n",
       "   'timestamp': '2020-10-27T02:32:09.468160',\n",
       "   'domains': [],\n",
       "   'org': 'AT&T Services',\n",
       "   'os': None,\n",
       "   '_shodan': {'crawler': 'a3cc14ebb782071aec2032690d4fd1979446a9ab',\n",
       "    'ptr': True,\n",
       "    'id': '3de4cf8c-4a4f-4375-9a7c-eec96529aa7f',\n",
       "    'module': 'http-supermicro',\n",
       "    'options': {}},\n",
       "   'opts': {},\n",
       "   'ip_str': '12.91.147.50'},\n",
       "  {'hash': -400672297,\n",
       "   'tags': ['ics'],\n",
       "   'ip': 207328050,\n",
       "   'isp': 'AT&T Services',\n",
       "   'transport': 'tcp',\n",
       "   'data': '\\x01\\r\\nI20100\\r\\nOCT 21, 2020  1:18 PM\\r\\n\\r\\nSEMINOLE QUICK PIC\\r\\n2500 MILT PHILLIPS\\r\\nSEMINOLE OK\\r\\n\\r\\n\\r\\nIN-TANK INVENTORY       \\r\\n\\r\\nTANK PRODUCT             VOLUME TC VOLUME   ULLAGE   HEIGHT    WATER     TEMP\\r\\n  1  REG UNLEAD            2108      2085     8005    28.25     0.00    76.05\\r\\n  2  E10 UNLEAD            1340      1326     8687    20.67     0.00    75.43\\r\\n  3  ROAD DIESEL           1000       994     9027    16.87     0.00    75.82\\r\\n  4  OFFROAD DIESEL        1051      1073     1957    24.36     0.00     0.84\\r\\n\\r\\n\\x03',\n",
       "   'asn': 'AS7018',\n",
       "   'port': 10001,\n",
       "   'hostnames': [],\n",
       "   'location': {'city': 'Idabel',\n",
       "    'region_code': 'OK',\n",
       "    'area_code': None,\n",
       "    'longitude': -94.795,\n",
       "    'country_code3': None,\n",
       "    'latitude': 33.8848,\n",
       "    'postal_code': None,\n",
       "    'dma_code': 612,\n",
       "    'country_code': 'US',\n",
       "    'country_name': 'United States'},\n",
       "   'timestamp': '2020-10-21T18:24:20.367654',\n",
       "   'domains': [],\n",
       "   'org': 'AT&T Services',\n",
       "   'os': None,\n",
       "   '_shodan': {'crawler': '82488cbcb7dd25da13f728d04775390417d9ee4e',\n",
       "    'ptr': True,\n",
       "    'id': '6991fa92-c32c-4d59-bb96-ee022dd69edc',\n",
       "    'module': 'automated-tank-gauge',\n",
       "    'options': {}},\n",
       "   'opts': {'telnet': {'will': [], 'do': [], 'dont': [], 'wont': []}},\n",
       "   'ip_str': '12.91.147.50'}],\n",
       " 'asn': 'AS7018',\n",
       " 'city': 'Idabel',\n",
       " 'latitude': 33.8848,\n",
       " 'isp': 'AT&T Services',\n",
       " 'longitude': -94.795,\n",
       " 'last_update': '2020-11-07T04:26:07.369539',\n",
       " 'country_code3': None,\n",
       " 'country_name': 'United States',\n",
       " 'ip_str': '12.91.147.50',\n",
       " 'os': None,\n",
       " 'ports': [49152, 10001, 554]}"
      ]
     },
     "execution_count": 5,
     "metadata": {},
     "output_type": "execute_result"
    }
   ],
   "source": [
    "host = Shodan_api.host('12.91.147.50')\n",
    "host"
   ]
  },
  {
   "cell_type": "code",
   "execution_count": 6,
   "metadata": {},
   "outputs": [
    {
     "name": "stdout",
     "output_type": "stream",
     "text": [
      "\n",
      "        Results from Shodan Query\n",
      "        IP: 12.91.147.50\n",
      "        ISP: AT&T Services\n",
      "        Organization: AT&T Services\n",
      "        Operating System: None\n",
      "        Tags: ['ics']\n",
      "    \n"
     ]
    }
   ],
   "source": [
    "print(\"\"\"\n",
    "        Results from Shodan Query\n",
    "        IP: {}\n",
    "        ISP: {}\n",
    "        Organization: {}\n",
    "        Operating System: {}\n",
    "        Tags: {}\n",
    "    \"\"\".format(host['ip_str'], host.get('isp'), host.get('org', 'n/a'), host.get('os', 'n/a'), host.get('tags')))"
   ]
  },
  {
   "cell_type": "code",
   "execution_count": 8,
   "metadata": {},
   "outputs": [
    {
     "name": "stdout",
     "output_type": "stream",
     "text": [
      "\n",
      "        IP:12.91.147.50\n",
      "        Port: 554 \n",
      "        \n",
      "\n",
      "        IP:12.91.147.50\n",
      "        Port: 49152 \n",
      "        \n",
      "\n",
      "        IP:12.91.147.50\n",
      "        Port: 10001 \n",
      "        \n"
     ]
    }
   ],
   "source": [
    "for item in host['data']:\n",
    "    print(\"\"\"\n",
    "        IP:{}\n",
    "        Port: {} \n",
    "        \"\"\".format(item['ip_str'], item['port']))"
   ]
  },
  {
   "cell_type": "code",
   "execution_count": 9,
   "metadata": {},
   "outputs": [
    {
     "name": "stdout",
     "output_type": "stream",
     "text": [
      "dorknet \n",
      "        Results from Shodan Query\n",
      "        IP: 167.7.7.234\n",
      "        ISP: State of South Carolina\n",
      "        Organization: State of South Carolina\n",
      "        Operating System: None\n",
      "        Tags: ['ics', 'self-signed']\n",
      "    \n"
     ]
    },
    {
     "ename": "APIError",
     "evalue": "No information available for that IP.",
     "output_type": "error",
     "traceback": [
      "\u001b[0;31m---------------------------------------------------------------------------\u001b[0m",
      "\u001b[0;31mAPIError\u001b[0m                                  Traceback (most recent call last)",
      "\u001b[0;32m<ipython-input-9-32d954fc3732>\u001b[0m in \u001b[0;36m<module>\u001b[0;34m\u001b[0m\n\u001b[1;32m      2\u001b[0m \u001b[0;34m\u001b[0m\u001b[0m\n\u001b[1;32m      3\u001b[0m \u001b[0;32mfor\u001b[0m \u001b[0mdorks\u001b[0m \u001b[0;32min\u001b[0m \u001b[0mips_bad_guys\u001b[0m\u001b[0;34m:\u001b[0m\u001b[0;34m\u001b[0m\u001b[0;34m\u001b[0m\u001b[0m\n\u001b[0;32m----> 4\u001b[0;31m     \u001b[0mhost\u001b[0m \u001b[0;34m=\u001b[0m \u001b[0mShodan_api\u001b[0m\u001b[0;34m.\u001b[0m\u001b[0mhost\u001b[0m\u001b[0;34m(\u001b[0m\u001b[0mips_bad_guys\u001b[0m\u001b[0;34m[\u001b[0m\u001b[0mdorks\u001b[0m\u001b[0;34m]\u001b[0m\u001b[0;34m)\u001b[0m\u001b[0;34m\u001b[0m\u001b[0;34m\u001b[0m\u001b[0m\n\u001b[0m\u001b[1;32m      5\u001b[0m     print(dorks,\"\"\"\n\u001b[1;32m      6\u001b[0m         \u001b[0mResults\u001b[0m \u001b[0;32mfrom\u001b[0m \u001b[0mShodan\u001b[0m \u001b[0mQuery\u001b[0m\u001b[0;34m\u001b[0m\u001b[0;34m\u001b[0m\u001b[0m\n",
      "\u001b[0;32m/opt/anaconda3/lib/python3.7/site-packages/shodan/client.py\u001b[0m in \u001b[0;36mhost\u001b[0;34m(self, ips, history, minify)\u001b[0m\n\u001b[1;32m    378\u001b[0m         \u001b[0;32mif\u001b[0m \u001b[0mminify\u001b[0m\u001b[0;34m:\u001b[0m\u001b[0;34m\u001b[0m\u001b[0;34m\u001b[0m\u001b[0m\n\u001b[1;32m    379\u001b[0m             \u001b[0mparams\u001b[0m\u001b[0;34m[\u001b[0m\u001b[0;34m'minify'\u001b[0m\u001b[0;34m]\u001b[0m \u001b[0;34m=\u001b[0m \u001b[0mminify\u001b[0m\u001b[0;34m\u001b[0m\u001b[0;34m\u001b[0m\u001b[0m\n\u001b[0;32m--> 380\u001b[0;31m         \u001b[0;32mreturn\u001b[0m \u001b[0mself\u001b[0m\u001b[0;34m.\u001b[0m\u001b[0m_request\u001b[0m\u001b[0;34m(\u001b[0m\u001b[0;34m'/shodan/host/%s'\u001b[0m \u001b[0;34m%\u001b[0m \u001b[0;34m','\u001b[0m\u001b[0;34m.\u001b[0m\u001b[0mjoin\u001b[0m\u001b[0;34m(\u001b[0m\u001b[0mips\u001b[0m\u001b[0;34m)\u001b[0m\u001b[0;34m,\u001b[0m \u001b[0mparams\u001b[0m\u001b[0;34m)\u001b[0m\u001b[0;34m\u001b[0m\u001b[0;34m\u001b[0m\u001b[0m\n\u001b[0m\u001b[1;32m    381\u001b[0m \u001b[0;34m\u001b[0m\u001b[0m\n\u001b[1;32m    382\u001b[0m     \u001b[0;32mdef\u001b[0m \u001b[0minfo\u001b[0m\u001b[0;34m(\u001b[0m\u001b[0mself\u001b[0m\u001b[0;34m)\u001b[0m\u001b[0;34m:\u001b[0m\u001b[0;34m\u001b[0m\u001b[0;34m\u001b[0m\u001b[0m\n",
      "\u001b[0;32m/opt/anaconda3/lib/python3.7/site-packages/shodan/client.py\u001b[0m in \u001b[0;36m_request\u001b[0;34m(self, function, params, service, method)\u001b[0m\n\u001b[1;32m    338\u001b[0m         \u001b[0;31m# Raise an exception if an error occurred\u001b[0m\u001b[0;34m\u001b[0m\u001b[0;34m\u001b[0m\u001b[0;34m\u001b[0m\u001b[0m\n\u001b[1;32m    339\u001b[0m         \u001b[0;32mif\u001b[0m \u001b[0mtype\u001b[0m\u001b[0;34m(\u001b[0m\u001b[0mdata\u001b[0m\u001b[0;34m)\u001b[0m \u001b[0;34m==\u001b[0m \u001b[0mdict\u001b[0m \u001b[0;32mand\u001b[0m \u001b[0;34m'error'\u001b[0m \u001b[0;32min\u001b[0m \u001b[0mdata\u001b[0m\u001b[0;34m:\u001b[0m\u001b[0;34m\u001b[0m\u001b[0;34m\u001b[0m\u001b[0m\n\u001b[0;32m--> 340\u001b[0;31m             \u001b[0;32mraise\u001b[0m \u001b[0mAPIError\u001b[0m\u001b[0;34m(\u001b[0m\u001b[0mdata\u001b[0m\u001b[0;34m[\u001b[0m\u001b[0;34m'error'\u001b[0m\u001b[0;34m]\u001b[0m\u001b[0;34m)\u001b[0m\u001b[0;34m\u001b[0m\u001b[0;34m\u001b[0m\u001b[0m\n\u001b[0m\u001b[1;32m    341\u001b[0m \u001b[0;34m\u001b[0m\u001b[0m\n\u001b[1;32m    342\u001b[0m         \u001b[0;31m# Return the data\u001b[0m\u001b[0;34m\u001b[0m\u001b[0;34m\u001b[0m\u001b[0;34m\u001b[0m\u001b[0m\n",
      "\u001b[0;31mAPIError\u001b[0m: No information available for that IP."
     ]
    }
   ],
   "source": [
    "ips_bad_guys = {'dorknet':'167.7.7.234','da_fredsters':'89.135.39.5','My_network':\"68.87.130.45\"}\n",
    "\n",
    "for dorks in ips_bad_guys:\n",
    "    host = Shodan_api.host(ips_bad_guys[dorks])\n",
    "    print(dorks,\"\"\"\n",
    "        Results from Shodan Query\n",
    "        IP: {}\n",
    "        ISP: {}\n",
    "        Organization: {}\n",
    "        Operating System: {}\n",
    "        Tags: {}\n",
    "    \"\"\".format(host['ip_str'], host.get('isp'), host.get('org', 'n/a'), host.get('os', 'n/a'), host.get('tags'))) \n",
    "    "
   ]
  },
  {
   "cell_type": "code",
   "execution_count": null,
   "metadata": {},
   "outputs": [],
   "source": []
  }
 ],
 "metadata": {
  "kernelspec": {
   "display_name": "Python 3",
   "language": "python",
   "name": "python3"
  },
  "language_info": {
   "codemirror_mode": {
    "name": "ipython",
    "version": 3
   },
   "file_extension": ".py",
   "mimetype": "text/x-python",
   "name": "python",
   "nbconvert_exporter": "python",
   "pygments_lexer": "ipython3",
   "version": "3.7.4"
  }
 },
 "nbformat": 4,
 "nbformat_minor": 2
}
